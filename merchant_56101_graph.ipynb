{
 "cells": [
  {
   "cell_type": "markdown",
   "metadata": {},
   "source": [
    "\n",
    "### This is the graph of fuel spend.  \n",
    "The database work was done in __/media/lnr-ai/christo/github_repos/graphing/project_56101.cql__ \n",
    "\n",
    "In this work we aim to achieve the following:\n",
    "Merchant rank each of the fuel station communities where the member count is greater than 4."
   ]
  },
  {
   "cell_type": "markdown",
   "metadata": {},
   "source": [
    "Load libraries:"
   ]
  },
  {
   "cell_type": "code",
   "execution_count": 2,
   "metadata": {},
   "outputs": [],
   "source": [
    "import pandas as pd\n",
    "from py2neo import Graph\n",
    "graph = Graph(\"bolt://localhost:7687\", user='neo4j', password='NewPassword')\n",
    "import time\n",
    "import glob\n",
    "import os"
   ]
  },
  {
   "cell_type": "markdown",
   "metadata": {},
   "source": [
    "### Merchant ranking"
   ]
  },
  {
   "cell_type": "markdown",
   "metadata": {},
   "source": [
    "The following needs to run only once. It creates a parameter  called __merchant_56101_rank__ on each of the fuel station merchant nodes that belongs to a community of fuel stations where the member counts is more than some minimum.  "
   ]
  },
  {
   "cell_type": "markdown",
   "metadata": {},
   "source": [
    "This portion of the script only needs to run only once\n",
    "\n",
    "Define neo4j query to extract all fuel station communities as created in /media/lnr-ai/christo/github_repos/graphing/project_56101.cql.  Draw the community number and the member count:"
   ]
  },
  {
   "cell_type": "code",
   "execution_count": 2,
   "metadata": {},
   "outputs": [],
   "source": [
    "neo4j_query=\"\"\"\n",
    "MATCH (m:Merchant {subclass_id:56101})\n",
    "RETURN COUNT(m.merchant_56101_community) as membercount, m.merchant_56101_community as merchant_56101_community\n",
    "ORDER BY membercount ASC;\n",
    "\"\"\"\n",
    "merchant_rank_df=graph.run(neo4j_query).to_data_frame()"
   ]
  },
  {
   "cell_type": "markdown",
   "metadata": {},
   "source": [
    "View this dataframe:"
   ]
  },
  {
   "cell_type": "code",
   "execution_count": 3,
   "metadata": {},
   "outputs": [
    {
     "data": {
      "text/html": [
       "<div>\n",
       "<style scoped>\n",
       "    .dataframe tbody tr th:only-of-type {\n",
       "        vertical-align: middle;\n",
       "    }\n",
       "\n",
       "    .dataframe tbody tr th {\n",
       "        vertical-align: top;\n",
       "    }\n",
       "\n",
       "    .dataframe thead th {\n",
       "        text-align: right;\n",
       "    }\n",
       "</style>\n",
       "<table border=\"1\" class=\"dataframe\">\n",
       "  <thead>\n",
       "    <tr style=\"text-align: right;\">\n",
       "      <th></th>\n",
       "      <th>membercount</th>\n",
       "      <th>merchant_56101_community</th>\n",
       "    </tr>\n",
       "  </thead>\n",
       "  <tbody>\n",
       "    <tr>\n",
       "      <th>0</th>\n",
       "      <td>1</td>\n",
       "      <td>2</td>\n",
       "    </tr>\n",
       "    <tr>\n",
       "      <th>1</th>\n",
       "      <td>1</td>\n",
       "      <td>8992</td>\n",
       "    </tr>\n",
       "    <tr>\n",
       "      <th>2</th>\n",
       "      <td>1</td>\n",
       "      <td>5</td>\n",
       "    </tr>\n",
       "    <tr>\n",
       "      <th>3</th>\n",
       "      <td>1</td>\n",
       "      <td>8993</td>\n",
       "    </tr>\n",
       "    <tr>\n",
       "      <th>4</th>\n",
       "      <td>1</td>\n",
       "      <td>7</td>\n",
       "    </tr>\n",
       "    <tr>\n",
       "      <th>...</th>\n",
       "      <td>...</td>\n",
       "      <td>...</td>\n",
       "    </tr>\n",
       "    <tr>\n",
       "      <th>4483</th>\n",
       "      <td>285</td>\n",
       "      <td>3033</td>\n",
       "    </tr>\n",
       "    <tr>\n",
       "      <th>4484</th>\n",
       "      <td>312</td>\n",
       "      <td>1565</td>\n",
       "    </tr>\n",
       "    <tr>\n",
       "      <th>4485</th>\n",
       "      <td>439</td>\n",
       "      <td>3312</td>\n",
       "    </tr>\n",
       "    <tr>\n",
       "      <th>4486</th>\n",
       "      <td>592</td>\n",
       "      <td>2134</td>\n",
       "    </tr>\n",
       "    <tr>\n",
       "      <th>4487</th>\n",
       "      <td>847</td>\n",
       "      <td>2066</td>\n",
       "    </tr>\n",
       "  </tbody>\n",
       "</table>\n",
       "<p>4488 rows × 2 columns</p>\n",
       "</div>"
      ],
      "text/plain": [
       "      membercount  merchant_56101_community\n",
       "0               1                         2\n",
       "1               1                      8992\n",
       "2               1                         5\n",
       "3               1                      8993\n",
       "4               1                         7\n",
       "...           ...                       ...\n",
       "4483          285                      3033\n",
       "4484          312                      1565\n",
       "4485          439                      3312\n",
       "4486          592                      2134\n",
       "4487          847                      2066\n",
       "\n",
       "[4488 rows x 2 columns]"
      ]
     },
     "execution_count": 3,
     "metadata": {},
     "output_type": "execute_result"
    }
   ],
   "source": [
    "merchant_rank_df"
   ]
  },
  {
   "cell_type": "markdown",
   "metadata": {},
   "source": [
    "Limit this dataframe to communities with more than 4 members:"
   ]
  },
  {
   "cell_type": "code",
   "execution_count": 4,
   "metadata": {},
   "outputs": [],
   "source": [
    "merchant_rank_df=merchant_rank_df[merchant_rank_df['membercount']>4].copy()"
   ]
  },
  {
   "cell_type": "markdown",
   "metadata": {},
   "source": [
    "Create a unique list of all community members:"
   ]
  },
  {
   "cell_type": "code",
   "execution_count": 5,
   "metadata": {},
   "outputs": [],
   "source": [
    "merchant_56101_community_list=list(set(merchant_rank_df['merchant_56101_community']))"
   ]
  },
  {
   "cell_type": "markdown",
   "metadata": {},
   "source": [
    "Save the above dataframe to a .csv file:"
   ]
  },
  {
   "cell_type": "code",
   "execution_count": 6,
   "metadata": {},
   "outputs": [],
   "source": [
    "merchant_rank_df_copy=merchant_rank_df.copy()\n",
    "merchant_rank_df.to_csv(path_or_buf='/media/lnr-ai/christo/github_repos/graphing/data/merchant_56101_community_df',index=False)"
   ]
  },
  {
   "cell_type": "code",
   "execution_count": 7,
   "metadata": {},
   "outputs": [
    {
     "data": {
      "text/html": [
       "<div>\n",
       "<style scoped>\n",
       "    .dataframe tbody tr th:only-of-type {\n",
       "        vertical-align: middle;\n",
       "    }\n",
       "\n",
       "    .dataframe tbody tr th {\n",
       "        vertical-align: top;\n",
       "    }\n",
       "\n",
       "    .dataframe thead th {\n",
       "        text-align: right;\n",
       "    }\n",
       "</style>\n",
       "<table border=\"1\" class=\"dataframe\">\n",
       "  <thead>\n",
       "    <tr style=\"text-align: right;\">\n",
       "      <th></th>\n",
       "      <th>membercount</th>\n",
       "      <th>merchant_56101_community</th>\n",
       "    </tr>\n",
       "  </thead>\n",
       "  <tbody>\n",
       "    <tr>\n",
       "      <th>4460</th>\n",
       "      <td>12</td>\n",
       "      <td>2937</td>\n",
       "    </tr>\n",
       "    <tr>\n",
       "      <th>4461</th>\n",
       "      <td>19</td>\n",
       "      <td>1675</td>\n",
       "    </tr>\n",
       "    <tr>\n",
       "      <th>4462</th>\n",
       "      <td>20</td>\n",
       "      <td>2245</td>\n",
       "    </tr>\n",
       "    <tr>\n",
       "      <th>4463</th>\n",
       "      <td>20</td>\n",
       "      <td>1521</td>\n",
       "    </tr>\n",
       "    <tr>\n",
       "      <th>4464</th>\n",
       "      <td>27</td>\n",
       "      <td>1282</td>\n",
       "    </tr>\n",
       "    <tr>\n",
       "      <th>4465</th>\n",
       "      <td>56</td>\n",
       "      <td>1668</td>\n",
       "    </tr>\n",
       "    <tr>\n",
       "      <th>4466</th>\n",
       "      <td>62</td>\n",
       "      <td>1833</td>\n",
       "    </tr>\n",
       "    <tr>\n",
       "      <th>4467</th>\n",
       "      <td>77</td>\n",
       "      <td>728</td>\n",
       "    </tr>\n",
       "    <tr>\n",
       "      <th>4468</th>\n",
       "      <td>77</td>\n",
       "      <td>3516</td>\n",
       "    </tr>\n",
       "    <tr>\n",
       "      <th>4469</th>\n",
       "      <td>79</td>\n",
       "      <td>1502</td>\n",
       "    </tr>\n",
       "    <tr>\n",
       "      <th>4470</th>\n",
       "      <td>80</td>\n",
       "      <td>1476</td>\n",
       "    </tr>\n",
       "    <tr>\n",
       "      <th>4471</th>\n",
       "      <td>91</td>\n",
       "      <td>1322</td>\n",
       "    </tr>\n",
       "    <tr>\n",
       "      <th>4472</th>\n",
       "      <td>99</td>\n",
       "      <td>2288</td>\n",
       "    </tr>\n",
       "    <tr>\n",
       "      <th>4473</th>\n",
       "      <td>113</td>\n",
       "      <td>323</td>\n",
       "    </tr>\n",
       "    <tr>\n",
       "      <th>4474</th>\n",
       "      <td>116</td>\n",
       "      <td>2086</td>\n",
       "    </tr>\n",
       "    <tr>\n",
       "      <th>4475</th>\n",
       "      <td>122</td>\n",
       "      <td>1904</td>\n",
       "    </tr>\n",
       "    <tr>\n",
       "      <th>4476</th>\n",
       "      <td>132</td>\n",
       "      <td>2904</td>\n",
       "    </tr>\n",
       "    <tr>\n",
       "      <th>4477</th>\n",
       "      <td>166</td>\n",
       "      <td>2186</td>\n",
       "    </tr>\n",
       "    <tr>\n",
       "      <th>4478</th>\n",
       "      <td>179</td>\n",
       "      <td>1111</td>\n",
       "    </tr>\n",
       "    <tr>\n",
       "      <th>4479</th>\n",
       "      <td>181</td>\n",
       "      <td>957</td>\n",
       "    </tr>\n",
       "    <tr>\n",
       "      <th>4480</th>\n",
       "      <td>198</td>\n",
       "      <td>1867</td>\n",
       "    </tr>\n",
       "    <tr>\n",
       "      <th>4481</th>\n",
       "      <td>270</td>\n",
       "      <td>2940</td>\n",
       "    </tr>\n",
       "    <tr>\n",
       "      <th>4482</th>\n",
       "      <td>279</td>\n",
       "      <td>1458</td>\n",
       "    </tr>\n",
       "    <tr>\n",
       "      <th>4483</th>\n",
       "      <td>285</td>\n",
       "      <td>3033</td>\n",
       "    </tr>\n",
       "    <tr>\n",
       "      <th>4484</th>\n",
       "      <td>312</td>\n",
       "      <td>1565</td>\n",
       "    </tr>\n",
       "    <tr>\n",
       "      <th>4485</th>\n",
       "      <td>439</td>\n",
       "      <td>3312</td>\n",
       "    </tr>\n",
       "    <tr>\n",
       "      <th>4486</th>\n",
       "      <td>592</td>\n",
       "      <td>2134</td>\n",
       "    </tr>\n",
       "    <tr>\n",
       "      <th>4487</th>\n",
       "      <td>847</td>\n",
       "      <td>2066</td>\n",
       "    </tr>\n",
       "  </tbody>\n",
       "</table>\n",
       "</div>"
      ],
      "text/plain": [
       "      membercount  merchant_56101_community\n",
       "4460           12                      2937\n",
       "4461           19                      1675\n",
       "4462           20                      2245\n",
       "4463           20                      1521\n",
       "4464           27                      1282\n",
       "4465           56                      1668\n",
       "4466           62                      1833\n",
       "4467           77                       728\n",
       "4468           77                      3516\n",
       "4469           79                      1502\n",
       "4470           80                      1476\n",
       "4471           91                      1322\n",
       "4472           99                      2288\n",
       "4473          113                       323\n",
       "4474          116                      2086\n",
       "4475          122                      1904\n",
       "4476          132                      2904\n",
       "4477          166                      2186\n",
       "4478          179                      1111\n",
       "4479          181                       957\n",
       "4480          198                      1867\n",
       "4481          270                      2940\n",
       "4482          279                      1458\n",
       "4483          285                      3033\n",
       "4484          312                      1565\n",
       "4485          439                      3312\n",
       "4486          592                      2134\n",
       "4487          847                      2066"
      ]
     },
     "execution_count": 7,
     "metadata": {},
     "output_type": "execute_result"
    }
   ],
   "source": [
    "merchant_rank_df_copy"
   ]
  },
  {
   "cell_type": "markdown",
   "metadata": {},
   "source": [
    "Set the first element of merchant_56101_community_list equal to merchant_56101_community:"
   ]
  },
  {
   "cell_type": "code",
   "execution_count": 9,
   "metadata": {},
   "outputs": [],
   "source": [
    "merchant_56101_community=merchant_56101_community_list[0]"
   ]
  },
  {
   "cell_type": "markdown",
   "metadata": {},
   "source": [
    "Create a subgraph of all merchants in the merchant_56101_community; we will drop this graph in the iteration that follows."
   ]
  },
  {
   "cell_type": "code",
   "execution_count": 13,
   "metadata": {},
   "outputs": [
    {
     "name": "stdout",
     "output_type": "stream",
     "text": [
      "Create subgraph on community 1565:\n"
     ]
    },
    {
     "data": {
      "text/plain": [
       "[{'graphName': 'merchant_56101_graph',\n",
       "  'nodeCount': 312,\n",
       "  'relationshipCount': 0,\n",
       "  'createMillis': 1823}]"
      ]
     },
     "execution_count": 13,
     "metadata": {},
     "output_type": "execute_result"
    }
   ],
   "source": [
    "# Create a subgraph of all merchants in merchant_56101_community:\n",
    "print('Create subgraph on community {merchant_56101_community}:'.format(merchant_56101_community=merchant_56101_community))\n",
    "neo4j_query=\"\"\"CALL gds.graph.create.cypher(\n",
    "    'merchant_56101_graph',\n",
    "    'MATCH (m0:Merchant {{subclass_id:56101}}) \n",
    "    WHERE m0.merchant_56101_community = {merchant_56101_community} RETURN id(m0) AS id, \n",
    "    m0.totaltransactionamount as totaltransactionamount, m0.totaltransactioncount as totaltransactioncount',\n",
    "    'MATCH (m0:Merchant)-[rel:MERCHANT_FEET_LINK_56101]->(m1:Merchant) \n",
    "    WHERE rel.count > 1 AND \n",
    "    m0.merchant_56101_community = {merchant_56101_community} AND \n",
    "    m1.merchant_56101_community = {merchant_56101_community}\n",
    "    RETURN id(m0) AS source, id(m1) AS target, rel.count as count'\n",
    ")\n",
    "YIELD graphName, nodeCount, relationshipCount, createMillis;\n",
    "\"\"\".format(merchant_56101_community=merchant_56101_community)\n",
    "graph.run(neo4j_query).data()\n"
   ]
  },
  {
   "cell_type": "markdown",
   "metadata": {},
   "source": [
    "In the following iteration we iterate over the contents of the merchant_56101_community_list list."
   ]
  },
  {
   "cell_type": "code",
   "execution_count": 11,
   "metadata": {},
   "outputs": [
    {
     "name": "stdout",
     "output_type": "stream",
     "text": [
      "Doing community 1282; 1 of 28\n",
      "Drop subgraph:\n",
      "Create subgraph on community 1282:\n",
      "MerchantRank community members:\n",
      "Extract community members with merchant rank: \n",
      "Append extracted merchant community to a result dataframe:\n",
      "====================================================================================================\n",
      "Doing community 1668; 2 of 28\n",
      "Drop subgraph:\n",
      "Create subgraph on community 1668:\n",
      "MerchantRank community members:\n",
      "Extract community members with merchant rank: \n",
      "Append extracted merchant community to a result dataframe:\n",
      "====================================================================================================\n",
      "Doing community 2186; 3 of 28\n",
      "Drop subgraph:\n",
      "Create subgraph on community 2186:\n",
      "MerchantRank community members:\n",
      "Extract community members with merchant rank: \n",
      "Append extracted merchant community to a result dataframe:\n",
      "====================================================================================================\n",
      "Doing community 1675; 4 of 28\n",
      "Drop subgraph:\n",
      "Create subgraph on community 1675:\n",
      "MerchantRank community members:\n",
      "Extract community members with merchant rank: \n",
      "Append extracted merchant community to a result dataframe:\n",
      "====================================================================================================\n",
      "Doing community 2066; 5 of 28\n",
      "Drop subgraph:\n",
      "Create subgraph on community 2066:\n",
      "MerchantRank community members:\n",
      "Extract community members with merchant rank: \n",
      "Append extracted merchant community to a result dataframe:\n",
      "====================================================================================================\n",
      "Doing community 1565; 6 of 28\n",
      "Drop subgraph:\n",
      "Create subgraph on community 1565:\n",
      "MerchantRank community members:\n"
     ]
    },
    {
     "ename": "ClientError",
     "evalue": "ProcedureCallFailed: Failed to invoke procedure `gds.pageRank.write`: Caused by: org.neo4j.kernel.availability.UnavailableException: Timeout waiting for database to become available and allow new transactions. Waited 1s. 1 reasons for blocking: Database unavailable.",
     "output_type": "error",
     "traceback": [
      "\u001b[0;31m---------------------------------------------------------------------------\u001b[0m",
      "\u001b[0;31mClientError\u001b[0m                               Traceback (most recent call last)",
      "\u001b[0;32m<ipython-input-11-e259340b220e>\u001b[0m in \u001b[0;36m<module>\u001b[0;34m\u001b[0m\n\u001b[1;32m     35\u001b[0m     })\n\u001b[1;32m     36\u001b[0m     YIELD nodePropertiesWritten AS writtenProperties, ranIterations;\"\"\"\n\u001b[0;32m---> 37\u001b[0;31m     \u001b[0mgraph\u001b[0m\u001b[0;34m.\u001b[0m\u001b[0mrun\u001b[0m\u001b[0;34m(\u001b[0m\u001b[0mneo4j_query\u001b[0m\u001b[0;34m)\u001b[0m\u001b[0;34m.\u001b[0m\u001b[0mdata\u001b[0m\u001b[0;34m(\u001b[0m\u001b[0;34m)\u001b[0m\u001b[0;34m\u001b[0m\u001b[0;34m\u001b[0m\u001b[0m\n\u001b[0m\u001b[1;32m     38\u001b[0m     \u001b[0mprint\u001b[0m\u001b[0;34m(\u001b[0m\u001b[0;34m'Extract community members with merchant rank: '\u001b[0m\u001b[0;34m)\u001b[0m\u001b[0;34m\u001b[0m\u001b[0;34m\u001b[0m\u001b[0m\n\u001b[1;32m     39\u001b[0m     neo4j_query=\"\"\"\n",
      "\u001b[0;32m~/anaconda3/envs/graphing/lib/python3.7/site-packages/py2neo/database.py\u001b[0m in \u001b[0;36mdata\u001b[0;34m(self)\u001b[0m\n\u001b[1;32m   1190\u001b[0m         \u001b[0;34m:\u001b[0m\u001b[0mrtype\u001b[0m\u001b[0;34m:\u001b[0m\u001b[0;31m \u001b[0m\u001b[0;31m`\u001b[0m\u001b[0mlist\u001b[0m\u001b[0;31m`\u001b[0m \u001b[0mof\u001b[0m\u001b[0;31m \u001b[0m\u001b[0;31m`\u001b[0m\u001b[0mdict\u001b[0m\u001b[0;31m`\u001b[0m\u001b[0;34m\u001b[0m\u001b[0;34m\u001b[0m\u001b[0m\n\u001b[1;32m   1191\u001b[0m         \"\"\"\n\u001b[0;32m-> 1192\u001b[0;31m         \u001b[0;32mreturn\u001b[0m \u001b[0;34m[\u001b[0m\u001b[0mrecord\u001b[0m\u001b[0;34m.\u001b[0m\u001b[0mdata\u001b[0m\u001b[0;34m(\u001b[0m\u001b[0;34m)\u001b[0m \u001b[0;32mfor\u001b[0m \u001b[0mrecord\u001b[0m \u001b[0;32min\u001b[0m \u001b[0mself\u001b[0m\u001b[0;34m]\u001b[0m\u001b[0;34m\u001b[0m\u001b[0;34m\u001b[0m\u001b[0m\n\u001b[0m\u001b[1;32m   1193\u001b[0m \u001b[0;34m\u001b[0m\u001b[0m\n\u001b[1;32m   1194\u001b[0m     \u001b[0;32mdef\u001b[0m \u001b[0mto_table\u001b[0m\u001b[0;34m(\u001b[0m\u001b[0mself\u001b[0m\u001b[0;34m)\u001b[0m\u001b[0;34m:\u001b[0m\u001b[0;34m\u001b[0m\u001b[0;34m\u001b[0m\u001b[0m\n",
      "\u001b[0;32m~/anaconda3/envs/graphing/lib/python3.7/site-packages/py2neo/database.py\u001b[0m in \u001b[0;36m<listcomp>\u001b[0;34m(.0)\u001b[0m\n\u001b[1;32m   1190\u001b[0m         \u001b[0;34m:\u001b[0m\u001b[0mrtype\u001b[0m\u001b[0;34m:\u001b[0m\u001b[0;31m \u001b[0m\u001b[0;31m`\u001b[0m\u001b[0mlist\u001b[0m\u001b[0;31m`\u001b[0m \u001b[0mof\u001b[0m\u001b[0;31m \u001b[0m\u001b[0;31m`\u001b[0m\u001b[0mdict\u001b[0m\u001b[0;31m`\u001b[0m\u001b[0;34m\u001b[0m\u001b[0;34m\u001b[0m\u001b[0m\n\u001b[1;32m   1191\u001b[0m         \"\"\"\n\u001b[0;32m-> 1192\u001b[0;31m         \u001b[0;32mreturn\u001b[0m \u001b[0;34m[\u001b[0m\u001b[0mrecord\u001b[0m\u001b[0;34m.\u001b[0m\u001b[0mdata\u001b[0m\u001b[0;34m(\u001b[0m\u001b[0;34m)\u001b[0m \u001b[0;32mfor\u001b[0m \u001b[0mrecord\u001b[0m \u001b[0;32min\u001b[0m \u001b[0mself\u001b[0m\u001b[0;34m]\u001b[0m\u001b[0;34m\u001b[0m\u001b[0;34m\u001b[0m\u001b[0m\n\u001b[0m\u001b[1;32m   1193\u001b[0m \u001b[0;34m\u001b[0m\u001b[0m\n\u001b[1;32m   1194\u001b[0m     \u001b[0;32mdef\u001b[0m \u001b[0mto_table\u001b[0m\u001b[0;34m(\u001b[0m\u001b[0mself\u001b[0m\u001b[0;34m)\u001b[0m\u001b[0;34m:\u001b[0m\u001b[0;34m\u001b[0m\u001b[0;34m\u001b[0m\u001b[0m\n",
      "\u001b[0;32m~/anaconda3/envs/graphing/lib/python3.7/site-packages/py2neo/database.py\u001b[0m in \u001b[0;36m__iter__\u001b[0;34m(self)\u001b[0m\n\u001b[1;32m   1069\u001b[0m \u001b[0;34m\u001b[0m\u001b[0m\n\u001b[1;32m   1070\u001b[0m     \u001b[0;32mdef\u001b[0m \u001b[0m__iter__\u001b[0m\u001b[0;34m(\u001b[0m\u001b[0mself\u001b[0m\u001b[0;34m)\u001b[0m\u001b[0;34m:\u001b[0m\u001b[0;34m\u001b[0m\u001b[0;34m\u001b[0m\u001b[0m\n\u001b[0;32m-> 1071\u001b[0;31m         \u001b[0;32mwhile\u001b[0m \u001b[0mself\u001b[0m\u001b[0;34m.\u001b[0m\u001b[0mforward\u001b[0m\u001b[0;34m(\u001b[0m\u001b[0;34m)\u001b[0m\u001b[0;34m:\u001b[0m\u001b[0;34m\u001b[0m\u001b[0;34m\u001b[0m\u001b[0m\n\u001b[0m\u001b[1;32m   1072\u001b[0m             \u001b[0;32myield\u001b[0m \u001b[0mself\u001b[0m\u001b[0;34m.\u001b[0m\u001b[0m_current\u001b[0m\u001b[0;34m\u001b[0m\u001b[0;34m\u001b[0m\u001b[0m\n\u001b[1;32m   1073\u001b[0m \u001b[0;34m\u001b[0m\u001b[0m\n",
      "\u001b[0;32m~/anaconda3/envs/graphing/lib/python3.7/site-packages/py2neo/database.py\u001b[0m in \u001b[0;36mforward\u001b[0;34m(self, amount)\u001b[0m\n\u001b[1;32m   1131\u001b[0m         \u001b[0mfetch\u001b[0m \u001b[0;34m=\u001b[0m \u001b[0mself\u001b[0m\u001b[0;34m.\u001b[0m\u001b[0m_result\u001b[0m\u001b[0;34m.\u001b[0m\u001b[0mfetch\u001b[0m\u001b[0;34m\u001b[0m\u001b[0;34m\u001b[0m\u001b[0m\n\u001b[1;32m   1132\u001b[0m         \u001b[0;32mwhile\u001b[0m \u001b[0mmoved\u001b[0m \u001b[0;34m!=\u001b[0m \u001b[0mamount\u001b[0m\u001b[0;34m:\u001b[0m\u001b[0;34m\u001b[0m\u001b[0;34m\u001b[0m\u001b[0m\n\u001b[0;32m-> 1133\u001b[0;31m             \u001b[0mnew_current\u001b[0m \u001b[0;34m=\u001b[0m \u001b[0mfetch\u001b[0m\u001b[0;34m(\u001b[0m\u001b[0;34m)\u001b[0m\u001b[0;34m\u001b[0m\u001b[0;34m\u001b[0m\u001b[0m\n\u001b[0m\u001b[1;32m   1134\u001b[0m             \u001b[0;32mif\u001b[0m \u001b[0mnew_current\u001b[0m \u001b[0;32mis\u001b[0m \u001b[0;32mNone\u001b[0m\u001b[0;34m:\u001b[0m\u001b[0;34m\u001b[0m\u001b[0;34m\u001b[0m\u001b[0m\n\u001b[1;32m   1135\u001b[0m                 \u001b[0;32mbreak\u001b[0m\u001b[0;34m\u001b[0m\u001b[0;34m\u001b[0m\u001b[0m\n",
      "\u001b[0;32m~/anaconda3/envs/graphing/lib/python3.7/site-packages/py2neo/internal/hydration/__init__.py\u001b[0m in \u001b[0;36mfetch\u001b[0;34m(self)\u001b[0m\n\u001b[1;32m    112\u001b[0m             \u001b[0;32mwhile\u001b[0m \u001b[0;32mnot\u001b[0m \u001b[0mself\u001b[0m\u001b[0;34m.\u001b[0m\u001b[0m_records\u001b[0m \u001b[0;32mand\u001b[0m \u001b[0;32mnot\u001b[0m \u001b[0mself\u001b[0m\u001b[0;34m.\u001b[0m\u001b[0m_done\u001b[0m\u001b[0;34m:\u001b[0m\u001b[0;34m\u001b[0m\u001b[0;34m\u001b[0m\u001b[0m\n\u001b[1;32m    113\u001b[0m                 \u001b[0;32mif\u001b[0m \u001b[0mcallable\u001b[0m\u001b[0;34m(\u001b[0m\u001b[0mself\u001b[0m\u001b[0;34m.\u001b[0m\u001b[0m_on_more\u001b[0m\u001b[0;34m)\u001b[0m\u001b[0;34m:\u001b[0m\u001b[0;34m\u001b[0m\u001b[0;34m\u001b[0m\u001b[0m\n\u001b[0;32m--> 114\u001b[0;31m                     \u001b[0mself\u001b[0m\u001b[0;34m.\u001b[0m\u001b[0m_on_more\u001b[0m\u001b[0;34m(\u001b[0m\u001b[0;34m)\u001b[0m\u001b[0;34m\u001b[0m\u001b[0;34m\u001b[0m\u001b[0m\n\u001b[0m\u001b[1;32m    115\u001b[0m             \u001b[0;32mtry\u001b[0m\u001b[0;34m:\u001b[0m\u001b[0;34m\u001b[0m\u001b[0;34m\u001b[0m\u001b[0m\n\u001b[1;32m    116\u001b[0m                 \u001b[0;32mreturn\u001b[0m \u001b[0mRecord\u001b[0m\u001b[0;34m(\u001b[0m\u001b[0mzip\u001b[0m\u001b[0;34m(\u001b[0m\u001b[0mself\u001b[0m\u001b[0;34m.\u001b[0m\u001b[0mkeys\u001b[0m\u001b[0;34m(\u001b[0m\u001b[0;34m)\u001b[0m\u001b[0;34m,\u001b[0m \u001b[0mself\u001b[0m\u001b[0;34m.\u001b[0m\u001b[0m_records\u001b[0m\u001b[0;34m.\u001b[0m\u001b[0mpopleft\u001b[0m\u001b[0;34m(\u001b[0m\u001b[0;34m)\u001b[0m\u001b[0;34m)\u001b[0m\u001b[0;34m)\u001b[0m\u001b[0;34m\u001b[0m\u001b[0;34m\u001b[0m\u001b[0m\n",
      "\u001b[0;32m~/anaconda3/envs/graphing/lib/python3.7/site-packages/neobolt/direct.py\u001b[0m in \u001b[0;36mfetch\u001b[0;34m(self)\u001b[0m\n\u001b[1;32m    417\u001b[0m     \u001b[0;32mdef\u001b[0m \u001b[0mfetch\u001b[0m\u001b[0;34m(\u001b[0m\u001b[0mself\u001b[0m\u001b[0;34m)\u001b[0m\u001b[0;34m:\u001b[0m\u001b[0;34m\u001b[0m\u001b[0;34m\u001b[0m\u001b[0m\n\u001b[1;32m    418\u001b[0m         \u001b[0;32mtry\u001b[0m\u001b[0;34m:\u001b[0m\u001b[0;34m\u001b[0m\u001b[0;34m\u001b[0m\u001b[0m\n\u001b[0;32m--> 419\u001b[0;31m             \u001b[0;32mreturn\u001b[0m \u001b[0mself\u001b[0m\u001b[0;34m.\u001b[0m\u001b[0m_fetch\u001b[0m\u001b[0;34m(\u001b[0m\u001b[0;34m)\u001b[0m\u001b[0;34m\u001b[0m\u001b[0;34m\u001b[0m\u001b[0m\n\u001b[0m\u001b[1;32m    420\u001b[0m         \u001b[0;32mexcept\u001b[0m \u001b[0mself\u001b[0m\u001b[0;34m.\u001b[0m\u001b[0merror_handler\u001b[0m\u001b[0;34m.\u001b[0m\u001b[0mknown_errors\u001b[0m \u001b[0;32mas\u001b[0m \u001b[0merror\u001b[0m\u001b[0;34m:\u001b[0m\u001b[0;34m\u001b[0m\u001b[0;34m\u001b[0m\u001b[0m\n\u001b[1;32m    421\u001b[0m             \u001b[0mself\u001b[0m\u001b[0;34m.\u001b[0m\u001b[0merror_handler\u001b[0m\u001b[0;34m.\u001b[0m\u001b[0mhandle\u001b[0m\u001b[0;34m(\u001b[0m\u001b[0merror\u001b[0m\u001b[0;34m,\u001b[0m \u001b[0mself\u001b[0m\u001b[0;34m.\u001b[0m\u001b[0munresolved_address\u001b[0m\u001b[0;34m)\u001b[0m\u001b[0;34m\u001b[0m\u001b[0;34m\u001b[0m\u001b[0m\n",
      "\u001b[0;32m~/anaconda3/envs/graphing/lib/python3.7/site-packages/neobolt/direct.py\u001b[0m in \u001b[0;36m_fetch\u001b[0;34m(self)\u001b[0m\n\u001b[1;32m    459\u001b[0m         \u001b[0;32melif\u001b[0m \u001b[0msummary_signature\u001b[0m \u001b[0;34m==\u001b[0m \u001b[0;34mb\"\\x7F\"\u001b[0m\u001b[0;34m:\u001b[0m\u001b[0;34m\u001b[0m\u001b[0;34m\u001b[0m\u001b[0m\n\u001b[1;32m    460\u001b[0m             \u001b[0mlog_debug\u001b[0m\u001b[0;34m(\u001b[0m\u001b[0;34m\"[#%04X]  S: FAILURE %r\"\u001b[0m\u001b[0;34m,\u001b[0m \u001b[0mself\u001b[0m\u001b[0;34m.\u001b[0m\u001b[0mlocal_port\u001b[0m\u001b[0;34m,\u001b[0m \u001b[0msummary_metadata\u001b[0m\u001b[0;34m)\u001b[0m\u001b[0;34m\u001b[0m\u001b[0;34m\u001b[0m\u001b[0m\n\u001b[0;32m--> 461\u001b[0;31m             \u001b[0mresponse\u001b[0m\u001b[0;34m.\u001b[0m\u001b[0mon_failure\u001b[0m\u001b[0;34m(\u001b[0m\u001b[0msummary_metadata\u001b[0m \u001b[0;32mor\u001b[0m \u001b[0;34m{\u001b[0m\u001b[0;34m}\u001b[0m\u001b[0;34m)\u001b[0m\u001b[0;34m\u001b[0m\u001b[0;34m\u001b[0m\u001b[0m\n\u001b[0m\u001b[1;32m    462\u001b[0m         \u001b[0;32melse\u001b[0m\u001b[0;34m:\u001b[0m\u001b[0;34m\u001b[0m\u001b[0;34m\u001b[0m\u001b[0m\n\u001b[1;32m    463\u001b[0m             \u001b[0;32mraise\u001b[0m \u001b[0mProtocolError\u001b[0m\u001b[0;34m(\u001b[0m\u001b[0;34m\"Unexpected response message with signature %02X\"\u001b[0m \u001b[0;34m%\u001b[0m \u001b[0msummary_signature\u001b[0m\u001b[0;34m)\u001b[0m\u001b[0;34m\u001b[0m\u001b[0;34m\u001b[0m\u001b[0m\n",
      "\u001b[0;32m~/anaconda3/envs/graphing/lib/python3.7/site-packages/neobolt/direct.py\u001b[0m in \u001b[0;36mon_failure\u001b[0;34m(self, metadata)\u001b[0m\n\u001b[1;32m    749\u001b[0m         \u001b[0mhandler\u001b[0m \u001b[0;34m=\u001b[0m \u001b[0mself\u001b[0m\u001b[0;34m.\u001b[0m\u001b[0mhandlers\u001b[0m\u001b[0;34m.\u001b[0m\u001b[0mget\u001b[0m\u001b[0;34m(\u001b[0m\u001b[0;34m\"on_failure\"\u001b[0m\u001b[0;34m)\u001b[0m\u001b[0;34m\u001b[0m\u001b[0;34m\u001b[0m\u001b[0m\n\u001b[1;32m    750\u001b[0m         \u001b[0;32mif\u001b[0m \u001b[0mcallable\u001b[0m\u001b[0;34m(\u001b[0m\u001b[0mhandler\u001b[0m\u001b[0;34m)\u001b[0m\u001b[0;34m:\u001b[0m\u001b[0;34m\u001b[0m\u001b[0;34m\u001b[0m\u001b[0m\n\u001b[0;32m--> 751\u001b[0;31m             \u001b[0mhandler\u001b[0m\u001b[0;34m(\u001b[0m\u001b[0mmetadata\u001b[0m\u001b[0;34m)\u001b[0m\u001b[0;34m\u001b[0m\u001b[0;34m\u001b[0m\u001b[0m\n\u001b[0m\u001b[1;32m    752\u001b[0m         \u001b[0mhandler\u001b[0m \u001b[0;34m=\u001b[0m \u001b[0mself\u001b[0m\u001b[0;34m.\u001b[0m\u001b[0mhandlers\u001b[0m\u001b[0;34m.\u001b[0m\u001b[0mget\u001b[0m\u001b[0;34m(\u001b[0m\u001b[0;34m\"on_summary\"\u001b[0m\u001b[0;34m)\u001b[0m\u001b[0;34m\u001b[0m\u001b[0;34m\u001b[0m\u001b[0m\n\u001b[1;32m    753\u001b[0m         \u001b[0;32mif\u001b[0m \u001b[0mcallable\u001b[0m\u001b[0;34m(\u001b[0m\u001b[0mhandler\u001b[0m\u001b[0;34m)\u001b[0m\u001b[0;34m:\u001b[0m\u001b[0;34m\u001b[0m\u001b[0;34m\u001b[0m\u001b[0m\n",
      "\u001b[0;32m~/anaconda3/envs/graphing/lib/python3.7/site-packages/py2neo/internal/connectors.py\u001b[0m in \u001b[0;36m_fail\u001b[0;34m(cls, metadata)\u001b[0m\n\u001b[1;32m    279\u001b[0m     \u001b[0;32mdef\u001b[0m \u001b[0m_fail\u001b[0m\u001b[0;34m(\u001b[0m\u001b[0mcls\u001b[0m\u001b[0;34m,\u001b[0m \u001b[0mmetadata\u001b[0m\u001b[0;34m)\u001b[0m\u001b[0;34m:\u001b[0m\u001b[0;34m\u001b[0m\u001b[0;34m\u001b[0m\u001b[0m\n\u001b[1;32m    280\u001b[0m         \u001b[0;32mfrom\u001b[0m \u001b[0mpy2neo\u001b[0m\u001b[0;34m.\u001b[0m\u001b[0mdatabase\u001b[0m \u001b[0;32mimport\u001b[0m \u001b[0mGraphError\u001b[0m\u001b[0;34m\u001b[0m\u001b[0;34m\u001b[0m\u001b[0m\n\u001b[0;32m--> 281\u001b[0;31m         \u001b[0;32mraise\u001b[0m \u001b[0mGraphError\u001b[0m\u001b[0;34m.\u001b[0m\u001b[0mhydrate\u001b[0m\u001b[0;34m(\u001b[0m\u001b[0mmetadata\u001b[0m\u001b[0;34m)\u001b[0m\u001b[0;34m\u001b[0m\u001b[0;34m\u001b[0m\u001b[0m\n\u001b[0m\u001b[1;32m    282\u001b[0m \u001b[0;34m\u001b[0m\u001b[0m\n\u001b[1;32m    283\u001b[0m     \u001b[0;32mdef\u001b[0m \u001b[0mrun\u001b[0m\u001b[0;34m(\u001b[0m\u001b[0mself\u001b[0m\u001b[0;34m,\u001b[0m \u001b[0mstatement\u001b[0m\u001b[0;34m,\u001b[0m \u001b[0mparameters\u001b[0m\u001b[0;34m=\u001b[0m\u001b[0;32mNone\u001b[0m\u001b[0;34m,\u001b[0m \u001b[0mtx\u001b[0m\u001b[0;34m=\u001b[0m\u001b[0;32mNone\u001b[0m\u001b[0;34m,\u001b[0m \u001b[0mgraph\u001b[0m\u001b[0;34m=\u001b[0m\u001b[0;32mNone\u001b[0m\u001b[0;34m,\u001b[0m \u001b[0mkeys\u001b[0m\u001b[0;34m=\u001b[0m\u001b[0;32mNone\u001b[0m\u001b[0;34m,\u001b[0m \u001b[0mentities\u001b[0m\u001b[0;34m=\u001b[0m\u001b[0;32mNone\u001b[0m\u001b[0;34m)\u001b[0m\u001b[0;34m:\u001b[0m\u001b[0;34m\u001b[0m\u001b[0;34m\u001b[0m\u001b[0m\n",
      "\u001b[0;31mClientError\u001b[0m: ProcedureCallFailed: Failed to invoke procedure `gds.pageRank.write`: Caused by: org.neo4j.kernel.availability.UnavailableException: Timeout waiting for database to become available and allow new transactions. Waited 1s. 1 reasons for blocking: Database unavailable."
     ]
    }
   ],
   "source": [
    "merchant_rank_df=pd.DataFrame()\n",
    "# merchant_56101_community=merchant_56101_community_list[0]\n",
    "A=merchant_56101_community_list.copy()\n",
    "counter=0\n",
    "for merchant_56101_community in merchant_56101_community_list:\n",
    "    counter+=1\n",
    "    print('Doing community {merchant_56101_community}; {counter} of {countlen}'.format(merchant_56101_community=merchant_56101_community, counter=counter,countlen=len(merchant_56101_community_list)))\n",
    "    print('Drop subgraph:')\n",
    "    neo4j_query=\"\"\"CALL gds.graph.drop('merchant_56101_graph') YIELD graphName;\"\"\"\n",
    "    graph.run(neo4j_query).data()\n",
    "# Create a subgraph of all merchants in merchant_56101_community:\n",
    "    print('Create subgraph on community {merchant_56101_community}:'.format(merchant_56101_community=merchant_56101_community))\n",
    "    neo4j_query=\"\"\"CALL gds.graph.create.cypher(\n",
    "        'merchant_56101_graph',\n",
    "        'MATCH (m0:Merchant {{subclass_id:56101}}) \n",
    "        WHERE m0.merchant_56101_community = {merchant_56101_community} RETURN id(m0) AS id, \n",
    "        m0.totaltransactionamount as totaltransactionamount, m0.totaltransactioncount as totaltransactioncount',\n",
    "        'MATCH (m0:Merchant)-[rel:MERCHANT_FEET_LINK]->(m1:Merchant) \n",
    "        WHERE rel.count > 1 AND \n",
    "        m0.merchant_56101_community = {merchant_56101_community} AND \n",
    "        m1.merchant_56101_community = {merchant_56101_community}\n",
    "        RETURN id(m0) AS source, id(m1) AS target, rel.count as count'\n",
    "    )\n",
    "    YIELD graphName, nodeCount, relationshipCount, createMillis;\n",
    "    \"\"\".format(merchant_56101_community=merchant_56101_community)\n",
    "    graph.run(neo4j_query).data()\n",
    "# Write the MerchantRank on community nodes.  The rank belongs to the community of merchants as defined by the sub graph created above:\n",
    "    print('MerchantRank community members:')\n",
    "    neo4j_query=\"\"\"\n",
    "    CALL gds.pageRank.write('merchant_56101_graph', {\n",
    "      maxIterations: 20,\n",
    "      dampingFactor: 0.85,\n",
    "      writeProperty: 'merchant_56101_rank',\n",
    "      relationshipWeightProperty: 'count'\n",
    "    })\n",
    "    YIELD nodePropertiesWritten AS writtenProperties, ranIterations;\"\"\"\n",
    "    graph.run(neo4j_query).data()\n",
    "    print('Extract community members with merchant rank: ')\n",
    "    neo4j_query=\"\"\"\n",
    "    MATCH (m:Merchant {{subclass_id:56101}}) WHERE m.merchant_56101_community = {merchant_56101_community}\n",
    "    RETURN m.franchisename as franchisename, m.companyname as companyname,  m.merchant_56101_rank as MerchantRank, {merchant_56101_community} as merchant_56101_community \n",
    "    ORDER BY MerchantRank DESC;\n",
    "    \"\"\".format(merchant_56101_community=merchant_56101_community)\n",
    "    df=graph.run(neo4j_query).to_data_frame()\n",
    "\n",
    "    df['rankID']=range(1,df.shape[0]+1)\n",
    "    print('Append extracted merchant community to a result dataframe:')    \n",
    "    merchant_rank_df=merchant_rank_df.append(df,ignore_index=True)\n",
    "    A.pop(A.index(merchant_56101_community))\n",
    "    print('====================================================================================================')"
   ]
  },
  {
   "cell_type": "code",
   "execution_count": 12,
   "metadata": {},
   "outputs": [],
   "source": [
    "graph = Graph(\"bolt://localhost:7687\", user='neo4j', password='newPassword')"
   ]
  },
  {
   "cell_type": "code",
   "execution_count": 14,
   "metadata": {},
   "outputs": [
    {
     "name": "stdout",
     "output_type": "stream",
     "text": [
      "Doing community 1565; 1 of 23\n",
      "Drop subgraph:\n",
      "Create subgraph on community 1565:\n",
      "MerchantRank community members:\n",
      "Extract community members with merchant rank: \n",
      "Append extracted merchant community to a result dataframe:\n",
      "====================================================================================================\n",
      "Doing community 2086; 2 of 23\n",
      "Drop subgraph:\n",
      "Create subgraph on community 2086:\n",
      "MerchantRank community members:\n",
      "Extract community members with merchant rank: \n",
      "Append extracted merchant community to a result dataframe:\n",
      "====================================================================================================\n",
      "Doing community 1833; 3 of 23\n",
      "Drop subgraph:\n",
      "Create subgraph on community 1833:\n",
      "MerchantRank community members:\n",
      "Extract community members with merchant rank: \n",
      "Append extracted merchant community to a result dataframe:\n",
      "====================================================================================================\n",
      "Doing community 1322; 4 of 23\n",
      "Drop subgraph:\n",
      "Create subgraph on community 1322:\n",
      "MerchantRank community members:\n",
      "Extract community members with merchant rank: \n",
      "Append extracted merchant community to a result dataframe:\n",
      "====================================================================================================\n",
      "Doing community 1458; 5 of 23\n",
      "Drop subgraph:\n",
      "Create subgraph on community 1458:\n",
      "MerchantRank community members:\n",
      "Extract community members with merchant rank: \n",
      "Append extracted merchant community to a result dataframe:\n",
      "====================================================================================================\n",
      "Doing community 3516; 6 of 23\n",
      "Drop subgraph:\n",
      "Create subgraph on community 3516:\n",
      "MerchantRank community members:\n",
      "Extract community members with merchant rank: \n",
      "Append extracted merchant community to a result dataframe:\n",
      "====================================================================================================\n",
      "Doing community 957; 7 of 23\n",
      "Drop subgraph:\n",
      "Create subgraph on community 957:\n",
      "MerchantRank community members:\n",
      "Extract community members with merchant rank: \n",
      "Append extracted merchant community to a result dataframe:\n",
      "====================================================================================================\n",
      "Doing community 323; 8 of 23\n",
      "Drop subgraph:\n",
      "Create subgraph on community 323:\n",
      "MerchantRank community members:\n",
      "Extract community members with merchant rank: \n",
      "Append extracted merchant community to a result dataframe:\n",
      "====================================================================================================\n",
      "Doing community 1476; 9 of 23\n",
      "Drop subgraph:\n",
      "Create subgraph on community 1476:\n",
      "MerchantRank community members:\n",
      "Extract community members with merchant rank: \n",
      "Append extracted merchant community to a result dataframe:\n",
      "====================================================================================================\n",
      "Doing community 2245; 10 of 23\n",
      "Drop subgraph:\n",
      "Create subgraph on community 2245:\n",
      "MerchantRank community members:\n",
      "Extract community members with merchant rank: \n",
      "Append extracted merchant community to a result dataframe:\n",
      "====================================================================================================\n",
      "Doing community 1867; 11 of 23\n",
      "Drop subgraph:\n",
      "Create subgraph on community 1867:\n",
      "MerchantRank community members:\n",
      "Extract community members with merchant rank: \n",
      "Append extracted merchant community to a result dataframe:\n",
      "====================================================================================================\n",
      "Doing community 2134; 12 of 23\n",
      "Drop subgraph:\n",
      "Create subgraph on community 2134:\n",
      "MerchantRank community members:\n",
      "Extract community members with merchant rank: \n",
      "Append extracted merchant community to a result dataframe:\n",
      "====================================================================================================\n",
      "Doing community 1111; 13 of 23\n",
      "Drop subgraph:\n",
      "Create subgraph on community 1111:\n",
      "MerchantRank community members:\n",
      "Extract community members with merchant rank: \n",
      "Append extracted merchant community to a result dataframe:\n",
      "====================================================================================================\n",
      "Doing community 2904; 14 of 23\n",
      "Drop subgraph:\n",
      "Create subgraph on community 2904:\n",
      "MerchantRank community members:\n",
      "Extract community members with merchant rank: \n",
      "Append extracted merchant community to a result dataframe:\n",
      "====================================================================================================\n",
      "Doing community 728; 15 of 23\n",
      "Drop subgraph:\n",
      "Create subgraph on community 728:\n",
      "MerchantRank community members:\n",
      "Extract community members with merchant rank: \n",
      "Append extracted merchant community to a result dataframe:\n",
      "====================================================================================================\n",
      "Doing community 3033; 16 of 23\n",
      "Drop subgraph:\n",
      "Create subgraph on community 3033:\n",
      "MerchantRank community members:\n",
      "Extract community members with merchant rank: \n",
      "Append extracted merchant community to a result dataframe:\n",
      "====================================================================================================\n",
      "Doing community 1502; 17 of 23\n",
      "Drop subgraph:\n",
      "Create subgraph on community 1502:\n",
      "MerchantRank community members:\n",
      "Extract community members with merchant rank: \n",
      "Append extracted merchant community to a result dataframe:\n",
      "====================================================================================================\n",
      "Doing community 2288; 18 of 23\n",
      "Drop subgraph:\n",
      "Create subgraph on community 2288:\n",
      "MerchantRank community members:\n",
      "Extract community members with merchant rank: \n",
      "Append extracted merchant community to a result dataframe:\n",
      "====================================================================================================\n",
      "Doing community 1521; 19 of 23\n",
      "Drop subgraph:\n",
      "Create subgraph on community 1521:\n",
      "MerchantRank community members:\n",
      "Extract community members with merchant rank: \n",
      "Append extracted merchant community to a result dataframe:\n",
      "====================================================================================================\n",
      "Doing community 1904; 20 of 23\n",
      "Drop subgraph:\n",
      "Create subgraph on community 1904:\n",
      "MerchantRank community members:\n",
      "Extract community members with merchant rank: \n",
      "Append extracted merchant community to a result dataframe:\n",
      "====================================================================================================\n",
      "Doing community 3312; 21 of 23\n",
      "Drop subgraph:\n",
      "Create subgraph on community 3312:\n",
      "MerchantRank community members:\n",
      "Extract community members with merchant rank: \n",
      "Append extracted merchant community to a result dataframe:\n",
      "====================================================================================================\n",
      "Doing community 2937; 22 of 23\n",
      "Drop subgraph:\n",
      "Create subgraph on community 2937:\n",
      "MerchantRank community members:\n",
      "Extract community members with merchant rank: \n",
      "Append extracted merchant community to a result dataframe:\n",
      "====================================================================================================\n",
      "Doing community 2940; 23 of 23\n",
      "Drop subgraph:\n",
      "Create subgraph on community 2940:\n",
      "MerchantRank community members:\n",
      "Extract community members with merchant rank: \n",
      "Append extracted merchant community to a result dataframe:\n",
      "====================================================================================================\n"
     ]
    }
   ],
   "source": [
    "# merchant_rank_df=pd.DataFrame()\n",
    "merchant_56101_community_list=A.copy()\n",
    "counter=0\n",
    "for merchant_56101_community in merchant_56101_community_list:\n",
    "    counter+=1\n",
    "    print('Doing community {merchant_56101_community}; {counter} of {countlen}'.format(merchant_56101_community=merchant_56101_community, counter=counter,countlen=len(merchant_56101_community_list)))\n",
    "    print('Drop subgraph:')\n",
    "    neo4j_query=\"\"\"CALL gds.graph.drop('merchant_56101_graph') YIELD graphName;\"\"\"\n",
    "    graph.run(neo4j_query).data()\n",
    "# Create a subgraph of all merchants in merchant_56101_community:\n",
    "    print('Create subgraph on community {merchant_56101_community}:'.format(merchant_56101_community=merchant_56101_community))\n",
    "    neo4j_query=\"\"\"CALL gds.graph.create.cypher(\n",
    "        'merchant_56101_graph',\n",
    "        'MATCH (m0:Merchant {{subclass_id:56101}}) \n",
    "        WHERE m0.merchant_56101_community = {merchant_56101_community} RETURN id(m0) AS id, \n",
    "        m0.totaltransactionamount as totaltransactionamount, m0.totaltransactioncount as totaltransactioncount',\n",
    "        'MATCH (m0:Merchant)-[rel:MERCHANT_FEET_LINK_56101]->(m1:Merchant) \n",
    "        WHERE rel.count > 1 AND \n",
    "        m0.merchant_56101_community = {merchant_56101_community} AND \n",
    "        m1.merchant_56101_community = {merchant_56101_community}\n",
    "        RETURN id(m0) AS source, id(m1) AS target, rel.count as count'\n",
    "    )\n",
    "    YIELD graphName, nodeCount, relationshipCount, createMillis;\n",
    "    \"\"\".format(merchant_56101_community=merchant_56101_community)\n",
    "    graph.run(neo4j_query).data()\n",
    "# Write the MerchantRank on community nodes.  The rank belongs to the community of merchants as defined by the sub graph created above:\n",
    "    print('MerchantRank community members:')\n",
    "    neo4j_query=\"\"\"\n",
    "    CALL gds.pageRank.write('merchant_56101_graph', {\n",
    "      maxIterations: 20,\n",
    "      dampingFactor: 0.85,\n",
    "      writeProperty: 'merchant_56101_rank',\n",
    "      relationshipWeightProperty: 'count'\n",
    "    })\n",
    "    YIELD nodePropertiesWritten AS writtenProperties, ranIterations;\"\"\"\n",
    "    graph.run(neo4j_query).data()\n",
    "    print('Extract community members with merchant rank: ')\n",
    "    neo4j_query=\"\"\"\n",
    "    MATCH (m:Merchant {{subclass_id:56101}}) WHERE m.merchant_56101_community = {merchant_56101_community}\n",
    "    RETURN m.franchisename as franchisename, m.companyname as companyname,  m.merchant_56101_rank as MerchantRank, {merchant_56101_community} as merchant_56101_community \n",
    "    ORDER BY MerchantRank DESC;\n",
    "    \"\"\".format(merchant_56101_community=merchant_56101_community)\n",
    "    df=graph.run(neo4j_query).to_data_frame()\n",
    "\n",
    "    df['rankID']=range(1,df.shape[0]+1)\n",
    "    print('Append extracted merchant community to a result dataframe:')    \n",
    "    merchant_rank_df=merchant_rank_df.append(df,ignore_index=True)\n",
    "    A.pop(A.index(merchant_56101_community))    \n",
    "    print('====================================================================================================')"
   ]
  },
  {
   "cell_type": "markdown",
   "metadata": {},
   "source": [
    "Save the contents of merchant_rank_df into a .csv file:"
   ]
  },
  {
   "cell_type": "code",
   "execution_count": 15,
   "metadata": {},
   "outputs": [],
   "source": [
    "merchant_rank_df.to_csv(path_or_buf='/media/lnr-ai/christo/github_repos/graphing/data/merchant_56101_rank_df',index=False)"
   ]
  },
  {
   "cell_type": "markdown",
   "metadata": {},
   "source": [
    "We now have two dataframes thus far.  Dataframe merchant_56101_community_df ontains only the community number and the community count:"
   ]
  },
  {
   "cell_type": "code",
   "execution_count": 16,
   "metadata": {},
   "outputs": [],
   "source": [
    "merchant_56101_community_df=pd.read_csv(filepath_or_buffer='/media/lnr-ai/christo/github_repos/graphing/data/merchant_56101_community_df')"
   ]
  },
  {
   "cell_type": "code",
   "execution_count": 17,
   "metadata": {},
   "outputs": [
    {
     "data": {
      "text/plain": [
       "['membercount', 'merchant_56101_community']"
      ]
     },
     "execution_count": 17,
     "metadata": {},
     "output_type": "execute_result"
    }
   ],
   "source": [
    "list(merchant_56101_community_df)"
   ]
  },
  {
   "cell_type": "markdown",
   "metadata": {},
   "source": [
    "Dataframe merchant_rank_df contains the community number (merchant_56101_community) and the rank of the merchant (MerchantRank) in that community.  It also has the franchise and company names. Read the same file into merchant_rank_df:"
   ]
  },
  {
   "cell_type": "code",
   "execution_count": 18,
   "metadata": {},
   "outputs": [],
   "source": [
    "merchant_56101_rank_df=pd.read_csv(filepath_or_buffer='/media/lnr-ai/christo/github_repos/graphing/data/merchant_56101_rank_df')"
   ]
  },
  {
   "cell_type": "code",
   "execution_count": 19,
   "metadata": {},
   "outputs": [
    {
     "data": {
      "text/plain": [
       "['franchisename',\n",
       " 'companyname',\n",
       " 'MerchantRank',\n",
       " 'merchant_56101_community',\n",
       " 'rankID']"
      ]
     },
     "execution_count": 19,
     "metadata": {},
     "output_type": "execute_result"
    }
   ],
   "source": [
    "list(merchant_56101_rank_df)"
   ]
  },
  {
   "cell_type": "markdown",
   "metadata": {},
   "source": [
    "Merge merchant_56101_rank_df and merchant_56101_community_df on the merchant_56101_community column:"
   ]
  },
  {
   "cell_type": "code",
   "execution_count": 20,
   "metadata": {},
   "outputs": [],
   "source": [
    "df=merchant_56101_rank_df.merge(merchant_56101_community_df,left_on='merchant_56101_community',\n",
    "                             right_on='merchant_56101_community',how='left')"
   ]
  },
  {
   "cell_type": "code",
   "execution_count": 21,
   "metadata": {},
   "outputs": [],
   "source": [
    "df.to_csv('/media/lnr-ai/christo/github_repos/graphing/data/merchant_56101_df',index=False)"
   ]
  },
  {
   "cell_type": "code",
   "execution_count": 22,
   "metadata": {},
   "outputs": [
    {
     "data": {
      "text/plain": [
       "28"
      ]
     },
     "execution_count": 22,
     "metadata": {},
     "output_type": "execute_result"
    }
   ],
   "source": [
    "len(set(df['merchant_56101_community']))"
   ]
  },
  {
   "cell_type": "code",
   "execution_count": 23,
   "metadata": {},
   "outputs": [
    {
     "data": {
      "text/html": [
       "<div>\n",
       "<style scoped>\n",
       "    .dataframe tbody tr th:only-of-type {\n",
       "        vertical-align: middle;\n",
       "    }\n",
       "\n",
       "    .dataframe tbody tr th {\n",
       "        vertical-align: top;\n",
       "    }\n",
       "\n",
       "    .dataframe thead th {\n",
       "        text-align: right;\n",
       "    }\n",
       "</style>\n",
       "<table border=\"1\" class=\"dataframe\">\n",
       "  <thead>\n",
       "    <tr style=\"text-align: right;\">\n",
       "      <th></th>\n",
       "      <th>franchisename</th>\n",
       "      <th>companyname</th>\n",
       "      <th>MerchantRank</th>\n",
       "      <th>merchant_56101_community</th>\n",
       "      <th>rankID</th>\n",
       "      <th>membercount</th>\n",
       "    </tr>\n",
       "  </thead>\n",
       "  <tbody>\n",
       "    <tr>\n",
       "      <th>0</th>\n",
       "      <td>MCD Ladysmith(</td>\n",
       "      <td>MCD</td>\n",
       "      <td>3.513683</td>\n",
       "      <td>1282</td>\n",
       "      <td>1</td>\n",
       "      <td>27</td>\n",
       "    </tr>\n",
       "    <tr>\n",
       "      <th>1</th>\n",
       "      <td>KFC DUNDEE</td>\n",
       "      <td>KFC</td>\n",
       "      <td>3.030635</td>\n",
       "      <td>1282</td>\n",
       "      <td>2</td>\n",
       "      <td>27</td>\n",
       "    </tr>\n",
       "    <tr>\n",
       "      <th>2</th>\n",
       "      <td>KFC EZAKHENI</td>\n",
       "      <td>KFC</td>\n",
       "      <td>2.774168</td>\n",
       "      <td>1282</td>\n",
       "      <td>3</td>\n",
       "      <td>27</td>\n",
       "    </tr>\n",
       "    <tr>\n",
       "      <th>3</th>\n",
       "      <td>STEERS DUNDE</td>\n",
       "      <td>STEERS</td>\n",
       "      <td>1.936258</td>\n",
       "      <td>1282</td>\n",
       "      <td>4</td>\n",
       "      <td>27</td>\n",
       "    </tr>\n",
       "    <tr>\n",
       "      <th>4</th>\n",
       "      <td>Nandos Newcast</td>\n",
       "      <td>NANDOS</td>\n",
       "      <td>1.528236</td>\n",
       "      <td>1282</td>\n",
       "      <td>5</td>\n",
       "      <td>27</td>\n",
       "    </tr>\n",
       "    <tr>\n",
       "      <th>...</th>\n",
       "      <td>...</td>\n",
       "      <td>...</td>\n",
       "      <td>...</td>\n",
       "      <td>...</td>\n",
       "      <td>...</td>\n",
       "      <td>...</td>\n",
       "    </tr>\n",
       "    <tr>\n",
       "      <th>4945</th>\n",
       "      <td>McDONALDS PO</td>\n",
       "      <td>MCD</td>\n",
       "      <td>0.150000</td>\n",
       "      <td>2940</td>\n",
       "      <td>266</td>\n",
       "      <td>270</td>\n",
       "    </tr>\n",
       "    <tr>\n",
       "      <th>4946</th>\n",
       "      <td>BURGER KING KE</td>\n",
       "      <td>BURGER KING</td>\n",
       "      <td>0.150000</td>\n",
       "      <td>2940</td>\n",
       "      <td>267</td>\n",
       "      <td>270</td>\n",
       "    </tr>\n",
       "    <tr>\n",
       "      <th>4947</th>\n",
       "      <td>Burger King Kl</td>\n",
       "      <td>BURGER KING</td>\n",
       "      <td>0.150000</td>\n",
       "      <td>2940</td>\n",
       "      <td>268</td>\n",
       "      <td>270</td>\n",
       "    </tr>\n",
       "    <tr>\n",
       "      <th>4948</th>\n",
       "      <td>Burger king kl</td>\n",
       "      <td>BURGER KING</td>\n",
       "      <td>0.150000</td>\n",
       "      <td>2940</td>\n",
       "      <td>269</td>\n",
       "      <td>270</td>\n",
       "    </tr>\n",
       "    <tr>\n",
       "      <th>4949</th>\n",
       "      <td>Burger King Ru</td>\n",
       "      <td>BURGER KING</td>\n",
       "      <td>0.150000</td>\n",
       "      <td>2940</td>\n",
       "      <td>270</td>\n",
       "      <td>270</td>\n",
       "    </tr>\n",
       "  </tbody>\n",
       "</table>\n",
       "<p>4950 rows × 6 columns</p>\n",
       "</div>"
      ],
      "text/plain": [
       "       franchisename  companyname  MerchantRank  merchant_56101_community  \\\n",
       "0     MCD Ladysmith(          MCD      3.513683                      1282   \n",
       "1         KFC DUNDEE          KFC      3.030635                      1282   \n",
       "2       KFC EZAKHENI          KFC      2.774168                      1282   \n",
       "3       STEERS DUNDE       STEERS      1.936258                      1282   \n",
       "4     Nandos Newcast       NANDOS      1.528236                      1282   \n",
       "...              ...          ...           ...                       ...   \n",
       "4945    McDONALDS PO          MCD      0.150000                      2940   \n",
       "4946  BURGER KING KE  BURGER KING      0.150000                      2940   \n",
       "4947  Burger King Kl  BURGER KING      0.150000                      2940   \n",
       "4948  Burger king kl  BURGER KING      0.150000                      2940   \n",
       "4949  Burger King Ru  BURGER KING      0.150000                      2940   \n",
       "\n",
       "      rankID  membercount  \n",
       "0          1           27  \n",
       "1          2           27  \n",
       "2          3           27  \n",
       "3          4           27  \n",
       "4          5           27  \n",
       "...      ...          ...  \n",
       "4945     266          270  \n",
       "4946     267          270  \n",
       "4947     268          270  \n",
       "4948     269          270  \n",
       "4949     270          270  \n",
       "\n",
       "[4950 rows x 6 columns]"
      ]
     },
     "execution_count": 23,
     "metadata": {},
     "output_type": "execute_result"
    }
   ],
   "source": [
    "df"
   ]
  },
  {
   "cell_type": "markdown",
   "metadata": {},
   "source": [
    "### Community aggregation:"
   ]
  },
  {
   "cell_type": "markdown",
   "metadata": {},
   "source": [
    "Here we use the results of the code above to do aggregation on the fast food communities:"
   ]
  },
  {
   "cell_type": "markdown",
   "metadata": {},
   "source": [
    "Connect to neo4J:"
   ]
  },
  {
   "cell_type": "code",
   "execution_count": null,
   "metadata": {},
   "outputs": [],
   "source": [
    "graph = Graph(\"bolt://localhost:7687\", user='neo4j', password='newPassword')"
   ]
  },
  {
   "cell_type": "markdown",
   "metadata": {},
   "source": [
    "In what follows we do two pieces of aggregation\n",
    "1. By merchant. Include \n",
    "    1. community number (merchant_56101_community),\n",
    "    2. companyname,\n",
    "    3. franchisename,\n",
    "    4. merchant rank, \n",
    "    5. total transaction amount and \n",
    "    6. total number of transactions.    "
   ]
  },
  {
   "cell_type": "code",
   "execution_count": null,
   "metadata": {},
   "outputs": [],
   "source": [
    "neo4j_query=\"\"\"MATCH (merchant:Merchant {subclass_id:56101})\n",
    "WHERE EXISTS(merchant.merchant_56101_rank)\n",
    "RETURN merchant.merchant_56101_community as merchant_56101_community,\n",
    "merchant.companyname as companyname, \n",
    "merchant.franchisename as franchisename, \n",
    "merchant.merchant_56101_rank as merchant_rank,\n",
    "merchant.totaltransactionamount as totaltransactionamount,\n",
    "merchant.totaltransactioncount as totaltransactioncount\n",
    "ORDER BY merchant_56101_community ASC;\n",
    "\"\"\"\n",
    "# merchant_rank_df=merchant_rank_df.append(df,ignore_index=True)\n",
    "df=graph.run(neo4j_query).to_data_frame()"
   ]
  },
  {
   "cell_type": "markdown",
   "metadata": {},
   "source": [
    "Create a new column __franchise_rank__.  This column holds the rank of a merchant in a merchant community based on the merchant rank, 1 being the franchise with the highest merchant rank - the franchise most likely to visited by a shopper."
   ]
  },
  {
   "cell_type": "code",
   "execution_count": null,
   "metadata": {},
   "outputs": [],
   "source": [
    "df['franchise_rank']=df.groupby(\"merchant_56101_community\")[\"merchant_rank\"].rank(\"dense\", ascending=False)"
   ]
  },
  {
   "cell_type": "markdown",
   "metadata": {},
   "source": [
    "Look at one company and ask the question of how many merchants see this company with the highest merchant rank:"
   ]
  },
  {
   "cell_type": "code",
   "execution_count": null,
   "metadata": {},
   "outputs": [],
   "source": [
    "df[(df.companyname=='BP')&(df.franchise_rank==1)]"
   ]
  },
  {
   "cell_type": "code",
   "execution_count": null,
   "metadata": {},
   "outputs": [],
   "source": [
    "len(set(df.merchant_56101_community))"
   ]
  },
  {
   "cell_type": "code",
   "execution_count": null,
   "metadata": {},
   "outputs": [],
   "source": [
    "df[(df.franchise_rank==1)]"
   ]
  },
  {
   "cell_type": "code",
   "execution_count": null,
   "metadata": {},
   "outputs": [],
   "source": [
    "df[(df.merchant_56101_community==11222)]"
   ]
  },
  {
   "cell_type": "markdown",
   "metadata": {},
   "source": [
    "Add another two columns, __totaltransactionamount_rank__ is the rank of all franchises in a community base on __totaltransactionamount__ and __totaltransactioncount_rank__ is likewise based on __totaltransactioncount__."
   ]
  },
  {
   "cell_type": "code",
   "execution_count": null,
   "metadata": {},
   "outputs": [],
   "source": [
    "# df['totaltransactionamount']=-df['totaltransactionamount']\n",
    "df['totaltransactionamount_rank']=df.groupby(\"merchant_56101_community\")[\"totaltransactionamount\"].rank(\"dense\", ascending=False)\n",
    "df['totaltransactioncount_rank']=df.groupby(\"merchant_56101_community\")[\"totaltransactioncount\"].rank(\"dense\", ascending=False)"
   ]
  },
  {
   "cell_type": "code",
   "execution_count": null,
   "metadata": {},
   "outputs": [],
   "source": [
    "df[['merchant_56101_community','totaltransactionamount','totaltransactioncount','franchise_rank','totaltransactionamount_rank','totaltransactioncount_rank']]"
   ]
  },
  {
   "cell_type": "code",
   "execution_count": null,
   "metadata": {},
   "outputs": [],
   "source": [
    "df.to_csv(path_or_buf='/media/lnr-ai/christo/github_repos/graphing/data/merchant_56101_community_aggregation_df',index=False)"
   ]
  },
  {
   "cell_type": "markdown",
   "metadata": {},
   "source": [
    "#### Total client spend by fuel station clients:"
   ]
  },
  {
   "cell_type": "markdown",
   "metadata": {},
   "source": [
    "In the following aggregation we take all clients who spent at any off the merchant_56101_community fuel stations and aggregate their total spend (at all POS).  We also count the number of distinct clients and merchants belonging to each community."
   ]
  },
  {
   "cell_type": "code",
   "execution_count": null,
   "metadata": {},
   "outputs": [],
   "source": [
    "neo4j_query=\"\"\"\n",
    "MATCH (client:Client)-[t:TRANSACTED_AT]-(merchant:Merchant)\n",
    "WHERE EXISTS(merchant.merchant_56101_rank)\n",
    "RETURN merchant.merchant_56101_community as merchant_56101_community,\n",
    "COUNT(DISTINCT client) as nClients,\n",
    "SUM(client.totaltransactionamount) as totalspend,\n",
    "COUNT(DISTINCT merchant) as nMerchants\n",
    "ORDER BY nClients ASC;\n",
    "\"\"\"\n",
    "df=graph.run(neo4j_query).to_data_frame()"
   ]
  },
  {
   "cell_type": "code",
   "execution_count": null,
   "metadata": {},
   "outputs": [],
   "source": [
    "df"
   ]
  },
  {
   "cell_type": "code",
   "execution_count": null,
   "metadata": {},
   "outputs": [],
   "source": [
    "min(df['totalspend']/df['nClients'])"
   ]
  },
  {
   "cell_type": "markdown",
   "metadata": {},
   "source": [
    "Save the results to merchant_56101_community_spend_df:"
   ]
  },
  {
   "cell_type": "code",
   "execution_count": null,
   "metadata": {},
   "outputs": [],
   "source": [
    "df.to_csv(path_or_buf='/media/lnr-ai/christo/github_repos/graphing/data/merchant_56101_community_spend_df',index=False)"
   ]
  },
  {
   "cell_type": "markdown",
   "metadata": {},
   "source": [
    "Read the previous two files:"
   ]
  },
  {
   "cell_type": "code",
   "execution_count": null,
   "metadata": {},
   "outputs": [],
   "source": [
    "community_aggregation_df=pd.read_csv(filepath_or_buffer='/media/lnr-ai/christo/github_repos/graphing/data/merchant_56101_community_aggregation_df')\n",
    "community_spend_df=pd.read_csv(filepath_or_buffer='/media/lnr-ai/christo/github_repos/graphing/data/merchant_56101_community_spend_df')"
   ]
  },
  {
   "cell_type": "code",
   "execution_count": null,
   "metadata": {},
   "outputs": [],
   "source": [
    "list(community_aggregation_df)"
   ]
  },
  {
   "cell_type": "code",
   "execution_count": null,
   "metadata": {},
   "outputs": [],
   "source": [
    "list(community_spend_df)"
   ]
  },
  {
   "cell_type": "code",
   "execution_count": null,
   "metadata": {},
   "outputs": [],
   "source": [
    "community_aggregation_df.merge(community_spend_df,how='left',left_on='merchant_56101_community',right_on='merchant_56101_community')"
   ]
  },
  {
   "cell_type": "markdown",
   "metadata": {},
   "source": [
    "Here we look at totals by community and create new columns __community_totaltransactionamount__ and __community_totaltransactioncount__"
   ]
  },
  {
   "cell_type": "code",
   "execution_count": null,
   "metadata": {},
   "outputs": [],
   "source": [
    "neo4j_query=\"\"\"MATCH (merchant:Merchant {subclass_id:56101})\n",
    "WHERE EXISTS(merchant.merchant_56101_rank)\n",
    "RETURN merchant.merchant_56101_community as merchant_56101_community,\n",
    "COUNT(merchant.merchant_56101_community) as count_merchant_56101_community,\n",
    "SUM(merchant.totaltransactionamount) as community_totaltransactionamount,\n",
    "SUM(merchant.totaltransactioncount) as community_totaltransactioncount\n",
    "ORDER BY merchant_56101_community ASC;\n",
    "\"\"\"\n",
    "df=graph.run(neo4j_query).to_data_frame()"
   ]
  },
  {
   "cell_type": "code",
   "execution_count": null,
   "metadata": {},
   "outputs": [],
   "source": [
    "df"
   ]
  },
  {
   "cell_type": "code",
   "execution_count": null,
   "metadata": {},
   "outputs": [],
   "source": []
  }
 ],
 "metadata": {
  "kernelspec": {
   "display_name": "Python 3",
   "language": "python",
   "name": "python3"
  },
  "language_info": {
   "codemirror_mode": {
    "name": "ipython",
    "version": 3
   },
   "file_extension": ".py",
   "mimetype": "text/x-python",
   "name": "python",
   "nbconvert_exporter": "python",
   "pygments_lexer": "ipython3",
   "version": "3.7.9"
  }
 },
 "nbformat": 4,
 "nbformat_minor": 4
}
