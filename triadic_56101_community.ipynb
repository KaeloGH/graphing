{
 "cells": [
  {
   "cell_type": "markdown",
   "metadata": {},
   "source": [
    "check out gephi.cql and behaviour_desktop.md"
   ]
  },
  {
   "cell_type": "markdown",
   "metadata": {},
   "source": [
    "/media/lnr-ai/applications/./neo4j-desktop-offline-1.2.7-x86_64.AppImage"
   ]
  },
  {
   "cell_type": "code",
   "execution_count": 48,
   "metadata": {},
   "outputs": [],
   "source": [
    "import pandas as pd\n",
    "from py2neo import Graph\n",
    "graph = Graph(\"bolt://localhost:7687\", user='neo4j', password='newPassword')\n",
    "import time\n",
    "import glob\n",
    "import os"
   ]
  },
  {
   "cell_type": "markdown",
   "metadata": {},
   "source": [
    "#### Is the Neo4J db up and running?"
   ]
  },
  {
   "cell_type": "code",
   "execution_count": 4,
   "metadata": {},
   "outputs": [
    {
     "data": {
      "text/plain": [
       "[{'nodes': [(_-4:Company {constraints: ['CONSTRAINT ON ( company:Company ) ASSERT (company.companyname) IS UNIQUE'], indexes: [], name: 'Company'}),\n",
       "   (_-2:Merchant {constraints: ['CONSTRAINT ON ( merchant:Merchant ) ASSERT (merchant.franchisename) IS UNIQUE'], indexes: [], name: 'Merchant'}),\n",
       "   (_-1:Client {constraints: ['CONSTRAINT ON ( client:Client ) ASSERT (client.dedupestatic) IS UNIQUE'], indexes: [], name: 'Client'}),\n",
       "   (_-3:Segment {constraints: ['CONSTRAINT ON ( segment:Segment ) ASSERT (segment.seg_l3_num) IS UNIQUE'], indexes: [], name: 'Segment'})],\n",
       "  'relationships': [(Client)-[:CLIENT_LINK_7916 {}]->(Client),\n",
       "   (Client)-[:TRANSACTED_AT {}]->(Merchant),\n",
       "   (Client)-[:CLIENT_LINK_2697 {}]->(Client),\n",
       "   (Client)-[:CLIENT_LINK {}]->(Client),\n",
       "   (Client)-[:COMPANY_TRANSACTED_AT {}]->(Company),\n",
       "   (Company)-[:COMPANY_LINK {}]->(Company),\n",
       "   (Merchant)-[:MERCHANT_FEET_LINK_45500 {}]->(Merchant),\n",
       "   (Merchant)-[:MERCHANT_VALUE_LINK {}]->(Merchant),\n",
       "   (Merchant)-[:MERCHANT_LINK {}]->(Merchant),\n",
       "   (Merchant)-[:TRIADIC_MERCHANT_FEET_LINK_45500 {}]->(Merchant),\n",
       "   (Merchant)-[:TRIADIC_MERCHANT_FEET_LINK {}]->(Merchant),\n",
       "   (Merchant)-[:MERCHANT_FEET_LINK {}]->(Merchant)]}]"
      ]
     },
     "execution_count": 4,
     "metadata": {},
     "output_type": "execute_result"
    }
   ],
   "source": [
    "graph.run(\"CALL db.schema.visualization()\").data()"
   ]
  },
  {
   "cell_type": "code",
   "execution_count": 5,
   "metadata": {},
   "outputs": [],
   "source": [
    "df=pd.read_csv(filepath_or_buffer='/media/lnr-ai/christo/github_repos/graphing/data/nedbank_companies_df.csv')"
   ]
  },
  {
   "cell_type": "code",
   "execution_count": 6,
   "metadata": {},
   "outputs": [],
   "source": [
    "gf=df[df.subclass_id==56101].copy()"
   ]
  },
  {
   "cell_type": "code",
   "execution_count": 8,
   "metadata": {},
   "outputs": [
    {
     "data": {
      "text/plain": [
       "57     Food service activities of take away counters\n",
       "58     Food service activities of take away counters\n",
       "59     Food service activities of take away counters\n",
       "60     Food service activities of take away counters\n",
       "61     Food service activities of take away counters\n",
       "62     Food service activities of take away counters\n",
       "63     Food service activities of take away counters\n",
       "64     Food service activities of take away counters\n",
       "65     Food service activities of take away counters\n",
       "66     Food service activities of take away counters\n",
       "68     Food service activities of take away counters\n",
       "69     Food service activities of take away counters\n",
       "70     Food service activities of take away counters\n",
       "72     Food service activities of take away counters\n",
       "73     Food service activities of take away counters\n",
       "74     Food service activities of take away counters\n",
       "75     Food service activities of take away counters\n",
       "76     Food service activities of take away counters\n",
       "77     Food service activities of take away counters\n",
       "78     Food service activities of take away counters\n",
       "79     Food service activities of take away counters\n",
       "80     Food service activities of take away counters\n",
       "161    Food service activities of take away counters\n",
       "213                                              NaN\n",
       "214                                              NaN\n",
       "265    Food service activities of take away counters\n",
       "313    Food service activities of take away counters\n",
       "375    Food service activities of take away counters\n",
       "376    Food service activities of take away counters\n",
       "379    Food service activities of take away counters\n",
       "Name: subclass_description, dtype: object"
      ]
     },
     "execution_count": 8,
     "metadata": {},
     "output_type": "execute_result"
    }
   ],
   "source": [
    "gf.subclass_description"
   ]
  },
  {
   "cell_type": "code",
   "execution_count": 9,
   "metadata": {},
   "outputs": [
    {
     "name": "stdout",
     "output_type": "stream",
     "text": [
      "['KUNG FU KITCHEN', 'FISH AWAYS', 'MCD', 'DEBONAIRS', 'SAUSAGE SALOON', 'KFC', 'NANDOS', 'STEERS', 'SPUR', 'ROCOMAMAS', 'SIMPLY ASIA', 'DOMINOS PIZZA', 'BURGER KING', 'CHICKEN LICKEN', 'FOURNOS', 'MOCHACHOS', 'PAPACHINOS', 'PIZZA HUT', 'WIMPY', 'KRISPY KREME', 'KAUAI', 'COLCACCHIO', 'COMPASS GROUP', 'WIESENHOF', 'DOPPIO ZERO', \"JIMMY'S KILLER\", 'PAULS ICE-CREAM', 'WAKABERRY', 'SMOOCH', 'NU']\n"
     ]
    }
   ],
   "source": [
    "print(list(gf.companyname))"
   ]
  },
  {
   "cell_type": "markdown",
   "metadata": {},
   "source": [
    "### Two Clients, ID=2248959, 4136719"
   ]
  },
  {
   "cell_type": "code",
   "execution_count": 10,
   "metadata": {},
   "outputs": [
    {
     "data": {
      "text/plain": [
       "[{'path': (_4683361)<-[:TRANSACTED_AT {db: 'CMProd202003', dbprefix: 'CMProd', period: '202003', transactionamount: -54.9, transactioncount: 1}]-(_2248959)-[:TRANSACTED_AT {db: 'CAProd202003', dbprefix: 'CAProd', period: '202003', transactionamount: -31.9, transactioncount: 1}]->(_4787417)},\n",
       " {'path': (_4683361)<-[:TRANSACTED_AT {db: 'CAProd202003', dbprefix: 'CAProd', period: '202003', transactionamount: -19.9, transactioncount: 1}]-(_4136719)-[:TRANSACTED_AT {db: 'CAProd202003', dbprefix: 'CAProd', period: '202003', transactionamount: -49.8, transactioncount: 2}]->(_4787417)},\n",
       " {'path': (_4683361)<-[:TRANSACTED_AT {db: 'CAProd202003', dbprefix: 'CAProd', period: '202003', transactionamount: -107.7, transactioncount: 1}]-(_3472932)-[:TRANSACTED_AT {db: 'CAProd202003', dbprefix: 'CAProd', period: '202003', transactionamount: -54.9, transactioncount: 1}]->(_4787417)},\n",
       " {'path': (_4829979)<-[:TRANSACTED_AT {db: 'SAProd202003', dbprefix: 'SAProd', period: '202003', transactionamount: -366.09999999999997, transactioncount: 2}]-(_4565110)-[:TRANSACTED_AT {db: 'SAProd202003', dbprefix: 'SAProd', period: '202003', transactionamount: -77.5, transactioncount: 1}]->(_4968462)},\n",
       " {'path': (_4787417)<-[:TRANSACTED_AT {db: 'CMProd202003', dbprefix: 'CMProd', period: '202003', transactionamount: -63.9, transactioncount: 1}]-(_2779505)-[:TRANSACTED_AT {db: 'CAProd202003', dbprefix: 'CAProd', period: '202003', transactionamount: -148.6, transactioncount: 1}]->(_4968462)}]"
      ]
     },
     "execution_count": 10,
     "metadata": {},
     "output_type": "execute_result"
    }
   ],
   "source": [
    "neo4j_query=\"\"\"\n",
    "MATCH path = (m0:Merchant)<-[:TRANSACTED_AT]-(:Client)-[:TRANSACTED_AT]->(m1:Merchant) \n",
    "WHERE  ID(m0)<ID(m1) AND m1.triadic_56101_community=7916 AND m0.triadic_56101_community=7916 RETURN path LIMIT 5\n",
    "\"\"\"\n",
    "graph.run(neo4j_query).data()"
   ]
  },
  {
   "cell_type": "code",
   "execution_count": 11,
   "metadata": {},
   "outputs": [],
   "source": [
    "client_df_one=pd.DataFrame()\n",
    "neo4j_query=\"\"\"\n",
    "MATCH (c:Client) \n",
    "WHERE  ID(c)=2248959 RETURN c\n",
    "\"\"\"\n",
    "s=graph.run(neo4j_query).data()\n",
    "\n",
    "for d in s[0]['c']:\n",
    "#     print(d)\n",
    "    add_dict={'attribute':d, 'value':s[0]['c'][d]}\n",
    "    client_df_one = client_df_one.append(add_dict, ignore_index=True)\n",
    "client_df_one\n",
    "client_df_one.rename(columns={'value':'client 1'}, inplace =True)"
   ]
  },
  {
   "cell_type": "code",
   "execution_count": 12,
   "metadata": {},
   "outputs": [],
   "source": [
    "client_df_two=pd.DataFrame()\n",
    "neo4j_query=\"\"\"\n",
    "MATCH (c:Client) \n",
    "WHERE  ID(c)=4136719 RETURN c\n",
    "\"\"\"\n",
    "s=graph.run(neo4j_query).data()\n",
    "\n",
    "for d in s[0]['c']:\n",
    "#     print(d)\n",
    "    add_dict={'attribute':d, 'value':s[0]['c'][d]}\n",
    "    client_df_two = client_df_two.append(add_dict, ignore_index=True)\n",
    "client_df_two.rename(columns={'value':'client 2'}, inplace =True)"
   ]
  },
  {
   "cell_type": "code",
   "execution_count": 13,
   "metadata": {},
   "outputs": [
    {
     "data": {
      "text/html": [
       "<div>\n",
       "<style scoped>\n",
       "    .dataframe tbody tr th:only-of-type {\n",
       "        vertical-align: middle;\n",
       "    }\n",
       "\n",
       "    .dataframe tbody tr th {\n",
       "        vertical-align: top;\n",
       "    }\n",
       "\n",
       "    .dataframe thead th {\n",
       "        text-align: right;\n",
       "    }\n",
       "</style>\n",
       "<table border=\"1\" class=\"dataframe\">\n",
       "  <thead>\n",
       "    <tr style=\"text-align: right;\">\n",
       "      <th></th>\n",
       "      <th>attribute</th>\n",
       "      <th>client 2</th>\n",
       "    </tr>\n",
       "  </thead>\n",
       "  <tbody>\n",
       "    <tr>\n",
       "      <th>0</th>\n",
       "      <td>period</td>\n",
       "      <td>202003</td>\n",
       "    </tr>\n",
       "    <tr>\n",
       "      <th>1</th>\n",
       "      <td>triadic_56101_community</td>\n",
       "      <td>7916</td>\n",
       "    </tr>\n",
       "    <tr>\n",
       "      <th>2</th>\n",
       "      <td>seg_l3_num</td>\n",
       "      <td>312</td>\n",
       "    </tr>\n",
       "    <tr>\n",
       "      <th>3</th>\n",
       "      <td>client_link_community_7916</td>\n",
       "      <td>1415</td>\n",
       "    </tr>\n",
       "    <tr>\n",
       "      <th>4</th>\n",
       "      <td>totaltransactionamount</td>\n",
       "      <td>-674.93</td>\n",
       "    </tr>\n",
       "    <tr>\n",
       "      <th>5</th>\n",
       "      <td>totaltransactioncount</td>\n",
       "      <td>10</td>\n",
       "    </tr>\n",
       "    <tr>\n",
       "      <th>6</th>\n",
       "      <td>dedupestatic</td>\n",
       "      <td>1.919770742e+11</td>\n",
       "    </tr>\n",
       "    <tr>\n",
       "      <th>7</th>\n",
       "      <td>client_link_community_6241</td>\n",
       "      <td>1336928</td>\n",
       "    </tr>\n",
       "    <tr>\n",
       "      <th>8</th>\n",
       "      <td>seg_l3_str</td>\n",
       "      <td>CB - PBCVM - Mass Market - Traditional</td>\n",
       "    </tr>\n",
       "  </tbody>\n",
       "</table>\n",
       "</div>"
      ],
      "text/plain": [
       "                    attribute                                client 2\n",
       "0                      period                                  202003\n",
       "1     triadic_56101_community                                    7916\n",
       "2                  seg_l3_num                                     312\n",
       "3  client_link_community_7916                                    1415\n",
       "4      totaltransactionamount                                 -674.93\n",
       "5       totaltransactioncount                                      10\n",
       "6                dedupestatic                         1.919770742e+11\n",
       "7  client_link_community_6241                                 1336928\n",
       "8                  seg_l3_str  CB - PBCVM - Mass Market - Traditional"
      ]
     },
     "execution_count": 13,
     "metadata": {},
     "output_type": "execute_result"
    }
   ],
   "source": [
    "client_df_two"
   ]
  },
  {
   "cell_type": "code",
   "execution_count": 14,
   "metadata": {},
   "outputs": [],
   "source": [
    "clients_df=client_df_one.merge(client_df_two,left_on='attribute',right_on='attribute')"
   ]
  },
  {
   "cell_type": "code",
   "execution_count": 15,
   "metadata": {},
   "outputs": [
    {
     "name": "stdout",
     "output_type": "stream",
     "text": [
      "\\begin{tabular}{lll}\n",
      "\\toprule\n",
      "                  attribute &                              client 1 &                                client 2 \\\\\n",
      "\\midrule\n",
      "                     period &                                202003 &                                  202003 \\\\\n",
      "    triadic\\_56101\\_community &                                  7916 &                                    7916 \\\\\n",
      " client\\_link\\_community\\_7916 &                                  1415 &                                    1415 \\\\\n",
      "                 seg\\_l3\\_num &                                   324 &                                     312 \\\\\n",
      "     totaltransactionamount &                              -5027.83 &                                 -674.93 \\\\\n",
      "      totaltransactioncount &                                    30 &                                      10 \\\\\n",
      "               dedupestatic &                       1.940665861e+11 &                         1.919770742e+11 \\\\\n",
      " client\\_link\\_community\\_6241 &                                  1421 &                                 1336928 \\\\\n",
      "                 seg\\_l3\\_str &  CB - PBCVM - Middle Market - Matured &  CB - PBCVM - Mass Market - Traditional \\\\\n",
      "\\bottomrule\n",
      "\\end{tabular}\n",
      "\n"
     ]
    }
   ],
   "source": [
    "print(clients_df.to_latex(index=False))"
   ]
  },
  {
   "cell_type": "markdown",
   "metadata": {},
   "source": [
    "### Two Merchants, ID=4683361, 4787417"
   ]
  },
  {
   "cell_type": "code",
   "execution_count": 16,
   "metadata": {},
   "outputs": [],
   "source": [
    "merchant_one=pd.DataFrame()\n",
    "neo4j_query=\"\"\"\n",
    "MATCH (m:Merchant) \n",
    "WHERE  ID(m)=4683361 RETURN m\n",
    "\"\"\"\n",
    "s=graph.run(neo4j_query).data()"
   ]
  },
  {
   "cell_type": "code",
   "execution_count": 17,
   "metadata": {},
   "outputs": [],
   "source": [
    "for d in s[0]['m']:\n",
    "#     print(d)\n",
    "    add_dict={'attribute':d, 'value':s[0]['m'][d]}\n",
    "    merchant_one = merchant_one.append(add_dict, ignore_index=True)\n",
    "merchant_one\n",
    "merchant_one.rename(columns={'value':'merchant 1'}, inplace =True)"
   ]
  },
  {
   "cell_type": "code",
   "execution_count": 18,
   "metadata": {},
   "outputs": [],
   "source": [
    "merchant_two=pd.DataFrame()\n",
    "neo4j_query=\"\"\"\n",
    "MATCH (m:Merchant) \n",
    "WHERE  ID(m)=4787417 RETURN m\n",
    "\"\"\"\n",
    "s=graph.run(neo4j_query).data()\n",
    "for d in s[0]['m']:\n",
    "#     print(d)\n",
    "    add_dict={'attribute':d, 'value':s[0]['m'][d]}\n",
    "    merchant_two = merchant_two.append(add_dict, ignore_index=True)\n",
    "merchant_two\n",
    "merchant_two.rename(columns={'value':'merchant 2'}, inplace =True)"
   ]
  },
  {
   "cell_type": "code",
   "execution_count": 19,
   "metadata": {},
   "outputs": [
    {
     "data": {
      "text/html": [
       "<div>\n",
       "<style scoped>\n",
       "    .dataframe tbody tr th:only-of-type {\n",
       "        vertical-align: middle;\n",
       "    }\n",
       "\n",
       "    .dataframe tbody tr th {\n",
       "        vertical-align: top;\n",
       "    }\n",
       "\n",
       "    .dataframe thead th {\n",
       "        text-align: right;\n",
       "    }\n",
       "</style>\n",
       "<table border=\"1\" class=\"dataframe\">\n",
       "  <thead>\n",
       "    <tr style=\"text-align: right;\">\n",
       "      <th></th>\n",
       "      <th>attribute</th>\n",
       "      <th>merchant 2</th>\n",
       "    </tr>\n",
       "  </thead>\n",
       "  <tbody>\n",
       "    <tr>\n",
       "      <th>0</th>\n",
       "      <td>discretionary</td>\n",
       "      <td>2</td>\n",
       "    </tr>\n",
       "    <tr>\n",
       "      <th>1</th>\n",
       "      <td>period</td>\n",
       "      <td>202003</td>\n",
       "    </tr>\n",
       "    <tr>\n",
       "      <th>2</th>\n",
       "      <td>biadic community</td>\n",
       "      <td>7916</td>\n",
       "    </tr>\n",
       "    <tr>\n",
       "      <th>3</th>\n",
       "      <td>totaltransactionamount</td>\n",
       "      <td>-20780.8</td>\n",
       "    </tr>\n",
       "    <tr>\n",
       "      <th>4</th>\n",
       "      <td>subclass_id</td>\n",
       "      <td>56101</td>\n",
       "    </tr>\n",
       "    <tr>\n",
       "      <th>5</th>\n",
       "      <td>class_id</td>\n",
       "      <td>5610</td>\n",
       "    </tr>\n",
       "    <tr>\n",
       "      <th>6</th>\n",
       "      <td>channel</td>\n",
       "      <td>0</td>\n",
       "    </tr>\n",
       "    <tr>\n",
       "      <th>7</th>\n",
       "      <td>division_id</td>\n",
       "      <td>56</td>\n",
       "    </tr>\n",
       "    <tr>\n",
       "      <th>8</th>\n",
       "      <td>triadic_community</td>\n",
       "      <td>7242</td>\n",
       "    </tr>\n",
       "    <tr>\n",
       "      <th>9</th>\n",
       "      <td>franchisename</td>\n",
       "      <td>KFC MOLOTO</td>\n",
       "    </tr>\n",
       "    <tr>\n",
       "      <th>10</th>\n",
       "      <td>biadic_community</td>\n",
       "      <td>7916</td>\n",
       "    </tr>\n",
       "    <tr>\n",
       "      <th>11</th>\n",
       "      <td>companyindex</td>\n",
       "      <td>65</td>\n",
       "    </tr>\n",
       "    <tr>\n",
       "      <th>12</th>\n",
       "      <td>triadic_56101_community</td>\n",
       "      <td>7916</td>\n",
       "    </tr>\n",
       "    <tr>\n",
       "      <th>13</th>\n",
       "      <td>group_id</td>\n",
       "      <td>561</td>\n",
       "    </tr>\n",
       "    <tr>\n",
       "      <th>14</th>\n",
       "      <td>companyname</td>\n",
       "      <td>KFC</td>\n",
       "    </tr>\n",
       "    <tr>\n",
       "      <th>15</th>\n",
       "      <td>totaltransactioncount</td>\n",
       "      <td>206</td>\n",
       "    </tr>\n",
       "  </tbody>\n",
       "</table>\n",
       "</div>"
      ],
      "text/plain": [
       "                  attribute  merchant 2\n",
       "0             discretionary           2\n",
       "1                    period      202003\n",
       "2          biadic community        7916\n",
       "3    totaltransactionamount    -20780.8\n",
       "4               subclass_id       56101\n",
       "5                  class_id        5610\n",
       "6                   channel           0\n",
       "7               division_id          56\n",
       "8         triadic_community        7242\n",
       "9             franchisename  KFC MOLOTO\n",
       "10         biadic_community        7916\n",
       "11             companyindex          65\n",
       "12  triadic_56101_community        7916\n",
       "13                 group_id         561\n",
       "14              companyname         KFC\n",
       "15    totaltransactioncount         206"
      ]
     },
     "execution_count": 19,
     "metadata": {},
     "output_type": "execute_result"
    }
   ],
   "source": [
    "merchant_two"
   ]
  },
  {
   "cell_type": "code",
   "execution_count": 20,
   "metadata": {},
   "outputs": [],
   "source": [
    "merchants_df=merchant_one.merge(merchant_two,left_on='attribute',right_on='attribute')"
   ]
  },
  {
   "cell_type": "code",
   "execution_count": 21,
   "metadata": {},
   "outputs": [
    {
     "name": "stdout",
     "output_type": "stream",
     "text": [
      "\\begin{tabular}{lll}\n",
      "\\toprule\n",
      "               attribute &      merchant 1 &  merchant 2 \\\\\n",
      "\\midrule\n",
      "           discretionary &               2 &           2 \\\\\n",
      "                  period &          202003 &      202003 \\\\\n",
      "        biadic community &            7916 &        7916 \\\\\n",
      "  totaltransactionamount &         -3509.3 &    -20780.8 \\\\\n",
      "             subclass\\_id &           56101 &       56101 \\\\\n",
      "                class\\_id &            5610 &        5610 \\\\\n",
      "                 channel &               0 &           0 \\\\\n",
      "             division\\_id &              56 &          56 \\\\\n",
      "       triadic\\_community &            7242 &        7242 \\\\\n",
      "           franchisename &  KFC PHOLA PARK &  KFC MOLOTO \\\\\n",
      "        biadic\\_community &            7916 &        7916 \\\\\n",
      "            companyindex &              65 &          65 \\\\\n",
      " triadic\\_56101\\_community &            7916 &        7916 \\\\\n",
      "                group\\_id &             561 &         561 \\\\\n",
      "             companyname &             KFC &         KFC \\\\\n",
      "   totaltransactioncount &              37 &         206 \\\\\n",
      "\\bottomrule\n",
      "\\end{tabular}\n",
      "\n"
     ]
    }
   ],
   "source": [
    "print(merchants_df.to_latex(index=False))"
   ]
  },
  {
   "cell_type": "code",
   "execution_count": 22,
   "metadata": {},
   "outputs": [],
   "source": [
    "neo4j_query=\"\"\"MATCH (c:Client)-[tfl:TRANSACTED_AT]->(m:Merchant) WHERE ID(c)=2248959 AND ID(m)=4683361 RETURN tfl\"\"\"\n",
    "s=graph.run(neo4j_query).data()"
   ]
  },
  {
   "cell_type": "code",
   "execution_count": 23,
   "metadata": {},
   "outputs": [],
   "source": [
    "transaction_11=pd.DataFrame()\n",
    "neo4j_query=\"\"\"\n",
    "MATCH (c:Client)-[tfl:TRANSACTED_AT]->(m:Merchant) WHERE ID(c)=2248959 AND ID(m)=4683361 RETURN tfl\n",
    "\"\"\"\n",
    "s=graph.run(neo4j_query).data()\n",
    "for d in s[0]['tfl']:\n",
    "#     print(d)\n",
    "    add_dict={'attribute':d, 'value':s[0]['tfl'][d]}\n",
    "    transaction_11 = transaction_11.append(add_dict, ignore_index=True)\n",
    "# merchant_two\n",
    "transaction_11.rename(columns={'value':'client 1 (1)'}, inplace =True)"
   ]
  },
  {
   "cell_type": "code",
   "execution_count": 24,
   "metadata": {},
   "outputs": [],
   "source": [
    "transaction_12=pd.DataFrame()\n",
    "neo4j_query=\"\"\"\n",
    "MATCH (c:Client)-[tfl:TRANSACTED_AT]->(m:Merchant) WHERE ID(c)=2248959 AND ID(m)=4787417 RETURN tfl\n",
    "\"\"\"\n",
    "s=graph.run(neo4j_query).data()\n",
    "for d in s[0]['tfl']:\n",
    "#     print(d)\n",
    "    add_dict={'attribute':d, 'value':s[0]['tfl'][d]}\n",
    "    transaction_12 = transaction_12.append(add_dict, ignore_index=True)\n",
    "# merchant_two\n",
    "transaction_12.rename(columns={'value':'client 1 (2)'}, inplace =True)"
   ]
  },
  {
   "cell_type": "code",
   "execution_count": 25,
   "metadata": {},
   "outputs": [],
   "source": [
    "transaction_21=pd.DataFrame()\n",
    "neo4j_query=\"\"\"\n",
    "MATCH (c:Client)-[tfl:TRANSACTED_AT]->(m:Merchant) WHERE ID(c)=4136719 AND ID(m)=4683361 RETURN tfl\n",
    "\"\"\"\n",
    "s=graph.run(neo4j_query).data()\n",
    "for d in s[0]['tfl']:\n",
    "#     print(d)\n",
    "    add_dict={'attribute':d, 'value':s[0]['tfl'][d]}\n",
    "    transaction_21 = transaction_21.append(add_dict, ignore_index=True)\n",
    "# merchant_two\n",
    "transaction_21.rename(columns={'value':'client 2 (1)'}, inplace =True)"
   ]
  },
  {
   "cell_type": "code",
   "execution_count": 26,
   "metadata": {},
   "outputs": [],
   "source": [
    "transaction_22=pd.DataFrame()\n",
    "neo4j_query=\"\"\"\n",
    "MATCH (c:Client)-[tfl:TRANSACTED_AT]->(m:Merchant) WHERE ID(c)=4136719 AND ID(m)=4787417 RETURN tfl\n",
    "\"\"\"\n",
    "s=graph.run(neo4j_query).data()\n",
    "for d in s[0]['tfl']:\n",
    "#     print(d)\n",
    "    add_dict={'attribute':d, 'value':s[0]['tfl'][d]}\n",
    "    transaction_22 = transaction_22.append(add_dict, ignore_index=True)\n",
    "# merchant_two\n",
    "transaction_22.rename(columns={'value':'client 2 (2)'}, inplace =True)"
   ]
  },
  {
   "cell_type": "code",
   "execution_count": 27,
   "metadata": {},
   "outputs": [],
   "source": [
    "transaction_summary_df=transaction_11.merge(transaction_12, left_on='attribute',right_on='attribute')\n",
    "transaction_summary_df=transaction_summary_df.merge(transaction_21, left_on='attribute',right_on='attribute')\n",
    "transaction_summary_df=transaction_summary_df.merge(transaction_22, left_on='attribute',right_on='attribute')"
   ]
  },
  {
   "cell_type": "code",
   "execution_count": 28,
   "metadata": {},
   "outputs": [
    {
     "name": "stdout",
     "output_type": "stream",
     "text": [
      "\\begin{tabular}{lllll}\n",
      "\\toprule\n",
      "         attribute &  client 1 (1) &  client 1 (2) &  client 2 (1) &  client 2 (2) \\\\\n",
      "\\midrule\n",
      "            period &        202003 &        202003 &        202003 &        202003 \\\\\n",
      " transactionamount &         -54.9 &         -31.9 &         -19.9 &         -49.8 \\\\\n",
      "          dbprefix &        CMProd &        CAProd &        CAProd &        CAProd \\\\\n",
      "  transactioncount &             1 &             1 &             1 &             2 \\\\\n",
      "                db &  CMProd202003 &  CAProd202003 &  CAProd202003 &  CAProd202003 \\\\\n",
      "\\bottomrule\n",
      "\\end{tabular}\n",
      "\n"
     ]
    }
   ],
   "source": [
    "print(transaction_summary_df.to_latex(index=False))"
   ]
  },
  {
   "cell_type": "code",
   "execution_count": 29,
   "metadata": {},
   "outputs": [],
   "source": [
    "neo4j_query=f\"\"\"\n",
    "MATCH (c:Client) \n",
    "WHERE EXISTS(c.client_link_community_7916) \n",
    "RETURN COUNT(c.client_link_community_7916) as count, c.client_link_community_7916 as client_link_community\n",
    "ORDER BY count ASC\n",
    "\"\"\"\n",
    "df=graph.run(neo4j_query).to_data_frame()"
   ]
  },
  {
   "cell_type": "code",
   "execution_count": 30,
   "metadata": {},
   "outputs": [
    {
     "name": "stdout",
     "output_type": "stream",
     "text": [
      "\\begin{tabular}{rr}\n",
      "\\toprule\n",
      " count &  client\\_link\\_community \\\\\n",
      "\\midrule\n",
      "    48 &                    822 \\\\\n",
      "   108 &                    232 \\\\\n",
      "   112 &                     44 \\\\\n",
      "   146 &                     86 \\\\\n",
      "   172 &                   1415 \\\\\n",
      "   206 &                     27 \\\\\n",
      "   237 &                    220 \\\\\n",
      "   238 &                   1779 \\\\\n",
      "   288 &                     95 \\\\\n",
      "   333 &                     75 \\\\\n",
      "   372 &                     31 \\\\\n",
      "   429 &                    176 \\\\\n",
      "\\bottomrule\n",
      "\\end{tabular}\n",
      "\n"
     ]
    }
   ],
   "source": [
    "print(df.to_latex(index=False))"
   ]
  },
  {
   "cell_type": "code",
   "execution_count": null,
   "metadata": {},
   "outputs": [],
   "source": []
  },
  {
   "cell_type": "code",
   "execution_count": 74,
   "metadata": {},
   "outputs": [],
   "source": [
    "neo4j_query=\"\"\"\n",
    "MATCH (m:Merchant {subclass_id:56101})\n",
    "WHERE EXISTS(m.triadic_56101_community) \n",
    "RETURN COUNT(m.triadic_56101_community) as membercount, m.triadic_56101_community as triadic_56101_community\n",
    "ORDER BY membercount ASC;\n",
    "\"\"\""
   ]
  },
  {
   "cell_type": "code",
   "execution_count": 75,
   "metadata": {},
   "outputs": [],
   "source": [
    "df=graph.run(neo4j_query).to_data_frame()"
   ]
  },
  {
   "cell_type": "code",
   "execution_count": 76,
   "metadata": {},
   "outputs": [
    {
     "data": {
      "text/html": [
       "<div>\n",
       "<style scoped>\n",
       "    .dataframe tbody tr th:only-of-type {\n",
       "        vertical-align: middle;\n",
       "    }\n",
       "\n",
       "    .dataframe tbody tr th {\n",
       "        vertical-align: top;\n",
       "    }\n",
       "\n",
       "    .dataframe thead th {\n",
       "        text-align: right;\n",
       "    }\n",
       "</style>\n",
       "<table border=\"1\" class=\"dataframe\">\n",
       "  <thead>\n",
       "    <tr style=\"text-align: right;\">\n",
       "      <th></th>\n",
       "      <th>membercount</th>\n",
       "      <th>triadic_56101_community</th>\n",
       "    </tr>\n",
       "  </thead>\n",
       "  <tbody>\n",
       "    <tr>\n",
       "      <th>0</th>\n",
       "      <td>1</td>\n",
       "      <td>0</td>\n",
       "    </tr>\n",
       "    <tr>\n",
       "      <th>1</th>\n",
       "      <td>1</td>\n",
       "      <td>9724</td>\n",
       "    </tr>\n",
       "    <tr>\n",
       "      <th>2</th>\n",
       "      <td>1</td>\n",
       "      <td>1</td>\n",
       "    </tr>\n",
       "    <tr>\n",
       "      <th>3</th>\n",
       "      <td>1</td>\n",
       "      <td>9725</td>\n",
       "    </tr>\n",
       "    <tr>\n",
       "      <th>4</th>\n",
       "      <td>1</td>\n",
       "      <td>6</td>\n",
       "    </tr>\n",
       "    <tr>\n",
       "      <th>...</th>\n",
       "      <td>...</td>\n",
       "      <td>...</td>\n",
       "    </tr>\n",
       "    <tr>\n",
       "      <th>5127</th>\n",
       "      <td>351</td>\n",
       "      <td>5936</td>\n",
       "    </tr>\n",
       "    <tr>\n",
       "      <th>5128</th>\n",
       "      <td>364</td>\n",
       "      <td>6365</td>\n",
       "    </tr>\n",
       "    <tr>\n",
       "      <th>5129</th>\n",
       "      <td>398</td>\n",
       "      <td>8188</td>\n",
       "    </tr>\n",
       "    <tr>\n",
       "      <th>5130</th>\n",
       "      <td>517</td>\n",
       "      <td>1772</td>\n",
       "    </tr>\n",
       "    <tr>\n",
       "      <th>5131</th>\n",
       "      <td>765</td>\n",
       "      <td>5989</td>\n",
       "    </tr>\n",
       "  </tbody>\n",
       "</table>\n",
       "<p>5132 rows × 2 columns</p>\n",
       "</div>"
      ],
      "text/plain": [
       "      membercount  triadic_56101_community\n",
       "0               1                        0\n",
       "1               1                     9724\n",
       "2               1                        1\n",
       "3               1                     9725\n",
       "4               1                        6\n",
       "...           ...                      ...\n",
       "5127          351                     5936\n",
       "5128          364                     6365\n",
       "5129          398                     8188\n",
       "5130          517                     1772\n",
       "5131          765                     5989\n",
       "\n",
       "[5132 rows x 2 columns]"
      ]
     },
     "execution_count": 76,
     "metadata": {},
     "output_type": "execute_result"
    }
   ],
   "source": [
    "df"
   ]
  },
  {
   "cell_type": "code",
   "execution_count": 77,
   "metadata": {},
   "outputs": [],
   "source": [
    "triadic_56101_community_list=list(df[df.membercount>20].triadic_56101_community)"
   ]
  },
  {
   "cell_type": "code",
   "execution_count": 78,
   "metadata": {},
   "outputs": [
    {
     "name": "stdout",
     "output_type": "stream",
     "text": [
      "\\begin{tabular}{rr}\n",
      "\\toprule\n",
      " membercount &  triadic\\_56101\\_community \\\\\n",
      "\\midrule\n",
      "          25 &                     7916 \\\\\n",
      "          30 &                     2697 \\\\\n",
      "          32 &                     6246 \\\\\n",
      "          44 &                     6305 \\\\\n",
      "          55 &                     6314 \\\\\n",
      "          61 &                      290 \\\\\n",
      "          69 &                     6790 \\\\\n",
      "          72 &                     8577 \\\\\n",
      "          84 &                     2160 \\\\\n",
      "          96 &                     5959 \\\\\n",
      "         109 &                     6244 \\\\\n",
      "         115 &                     7805 \\\\\n",
      "         122 &                     7579 \\\\\n",
      "         128 &                     1875 \\\\\n",
      "         149 &                     7544 \\\\\n",
      "         187 &                     5898 \\\\\n",
      "         241 &                     4914 \\\\\n",
      "         258 &                      154 \\\\\n",
      "         319 &                     6778 \\\\\n",
      "         351 &                     5936 \\\\\n",
      "         364 &                     6365 \\\\\n",
      "         398 &                     8188 \\\\\n",
      "         517 &                     1772 \\\\\n",
      "         765 &                     5989 \\\\\n",
      "\\bottomrule\n",
      "\\end{tabular}\n",
      "\n"
     ]
    }
   ],
   "source": [
    "print(df[df.membercount>20].to_latex(index=False))"
   ]
  },
  {
   "cell_type": "code",
   "execution_count": 41,
   "metadata": {},
   "outputs": [],
   "source": [
    "community=7916\n",
    "df=pd.read_csv(filepath_or_buffer='/media/lnr-ai/christo/github_repos/graphing/data/triadic_56101_community_df_{community}'.format(community=community)) "
   ]
  },
  {
   "cell_type": "code",
   "execution_count": 45,
   "metadata": {},
   "outputs": [
    {
     "data": {
      "text/plain": [
       "'KFC GROBLERS'"
      ]
     },
     "execution_count": 45,
     "metadata": {},
     "output_type": "execute_result"
    }
   ],
   "source": [
    "df.iloc[0].franchisename"
   ]
  },
  {
   "cell_type": "code",
   "execution_count": 43,
   "metadata": {},
   "outputs": [
    {
     "name": "stdout",
     "output_type": "stream",
     "text": [
      "\\begin{tabular}{lr}\n",
      "\\toprule\n",
      "   franchisename &     score \\\\\n",
      "\\midrule\n",
      "    KFC GROBLERS &  0.809422 \\\\\n",
      "  NANDOS GROBLER &  0.670787 \\\\\n",
      "    DEBONAIRS SI &  0.660889 \\\\\n",
      "    KFC MOUTSIYA &  0.601046 \\\\\n",
      "  WIMPY GROBLERS &  0.575624 \\\\\n",
      "    KFC KWAGGAFO &  0.470889 \\\\\n",
      "  STEERS MORATIW &  0.441075 \\\\\n",
      "  DEBONAIRS GROB &  0.394640 \\\\\n",
      "      KFC MOLOTO &  0.277500 \\\\\n",
      "    McD Kwagga M &  0.267938 \\\\\n",
      "    McD Groblers &  0.259299 \\\\\n",
      "    KFC MOUTSE M &  0.232283 \\\\\n",
      "  KFC MOUTSIYA M &  0.213750 \\\\\n",
      "    KFC PHOLA PA &  0.195549 \\\\\n",
      "  DEBONAIRS MORA &  0.186734 \\\\\n",
      "  DEBONAIRS SIYA &  0.186734 \\\\\n",
      "  DEBONAIRS JANE &  0.150000 \\\\\n",
      "  KFC GROBLERSDA &  0.150000 \\\\\n",
      "    KFC JANE FUR &  0.150000 \\\\\n",
      "    KFC MARBLE H &  0.150000 \\\\\n",
      "    KFC Moratiwa &  0.150000 \\\\\n",
      "  KFC PHOLA PARK &  0.150000 \\\\\n",
      "    KFC SIYABUSW &  0.150000 \\\\\n",
      "   KFC SIYABUSWA &  0.150000 \\\\\n",
      " McD Groblersdal &  0.150000 \\\\\n",
      "\\bottomrule\n",
      "\\end{tabular}\n",
      "\n"
     ]
    }
   ],
   "source": [
    "print(df[['franchisename','score']].to_latex(index=False))"
   ]
  },
  {
   "cell_type": "code",
   "execution_count": 56,
   "metadata": {},
   "outputs": [],
   "source": [
    "# path='/media/lnr-ai/christo/github_repos/graphing/data'\n",
    "path='/media/lnr-ai/christo/github_repos/graphing/data'\n",
    "file_list=glob.glob(path+'/*')\n",
    "df.append(ignore_index=)"
   ]
  },
  {
   "cell_type": "code",
   "execution_count": 68,
   "metadata": {},
   "outputs": [
    {
     "name": "stdout",
     "output_type": "stream",
     "text": [
      "/media/lnr-ai/christo/github_repos/graphing/data/triadic_56101_community_df_1875 1875\n",
      "/media/lnr-ai/christo/github_repos/graphing/data/triadic_56101_community_df_154 154\n",
      "/media/lnr-ai/christo/github_repos/graphing/data/triadic_56101_community_df_1772 1772\n",
      "/media/lnr-ai/christo/github_repos/graphing/data/triadic_56101_community_df_2160 2160\n",
      "/media/lnr-ai/christo/github_repos/graphing/data/triadic_56101_community_df_2697 2697\n",
      "/media/lnr-ai/christo/github_repos/graphing/data/triadic_56101_community_df_290 290\n",
      "/media/lnr-ai/christo/github_repos/graphing/data/triadic_56101_community_df_4914 4914\n",
      "/media/lnr-ai/christo/github_repos/graphing/data/triadic_56101_community_df_5898 5898\n",
      "/media/lnr-ai/christo/github_repos/graphing/data/triadic_56101_community_df_5936 5936\n",
      "/media/lnr-ai/christo/github_repos/graphing/data/triadic_56101_community_df_5959 5959\n",
      "/media/lnr-ai/christo/github_repos/graphing/data/triadic_56101_community_df_5989 5989\n",
      "/media/lnr-ai/christo/github_repos/graphing/data/triadic_56101_community_df_6244 6244\n",
      "/media/lnr-ai/christo/github_repos/graphing/data/triadic_56101_community_df_6246 6246\n",
      "/media/lnr-ai/christo/github_repos/graphing/data/triadic_56101_community_df_6305 6305\n",
      "/media/lnr-ai/christo/github_repos/graphing/data/triadic_56101_community_df_6314 6314\n",
      "/media/lnr-ai/christo/github_repos/graphing/data/triadic_56101_community_df_6365 6365\n",
      "/media/lnr-ai/christo/github_repos/graphing/data/triadic_56101_community_df_6778 6778\n",
      "/media/lnr-ai/christo/github_repos/graphing/data/triadic_56101_community_df_6790 6790\n",
      "/media/lnr-ai/christo/github_repos/graphing/data/triadic_56101_community_df_7544 7544\n",
      "/media/lnr-ai/christo/github_repos/graphing/data/triadic_56101_community_df_7579 7579\n",
      "/media/lnr-ai/christo/github_repos/graphing/data/triadic_56101_community_df_7805 7805\n",
      "/media/lnr-ai/christo/github_repos/graphing/data/triadic_56101_community_df_7916 7916\n",
      "/media/lnr-ai/christo/github_repos/graphing/data/triadic_56101_community_df_8188 8188\n",
      "/media/lnr-ai/christo/github_repos/graphing/data/triadic_56101_community_df_8577 8577\n"
     ]
    }
   ],
   "source": [
    "answer_dict={}\n",
    "answer_df=pd.DataFrame()\n",
    "for file_name in file_list:\n",
    "#     print(file_name)\n",
    "    if 'triadic_56101' in file_name:\n",
    "        print(file_name,int(file_name.split('_')[-1]))\n",
    "        df=pd.read_csv(filepath_or_buffer=file_name)\n",
    "        answer_dict['franchisename_1']=df.iloc[0].franchisename\n",
    "        answer_dict['franchisename_2']=df.iloc[1].franchisename\n",
    "        answer_dict['franchisename_3']=df.iloc[2].franchisename\n",
    "        answer_dict['franchisename_4']=df.iloc[3].franchisename           \n",
    "        answer_dict['community']=int(file_name.split('_')[-1])   \n",
    "        answer_df=answer_df.append(answer_dict, ignore_index=True)"
   ]
  },
  {
   "cell_type": "code",
   "execution_count": 69,
   "metadata": {},
   "outputs": [
    {
     "data": {
      "text/html": [
       "<div>\n",
       "<style scoped>\n",
       "    .dataframe tbody tr th:only-of-type {\n",
       "        vertical-align: middle;\n",
       "    }\n",
       "\n",
       "    .dataframe tbody tr th {\n",
       "        vertical-align: top;\n",
       "    }\n",
       "\n",
       "    .dataframe thead th {\n",
       "        text-align: right;\n",
       "    }\n",
       "</style>\n",
       "<table border=\"1\" class=\"dataframe\">\n",
       "  <thead>\n",
       "    <tr style=\"text-align: right;\">\n",
       "      <th></th>\n",
       "      <th>community</th>\n",
       "      <th>franchisename_1</th>\n",
       "      <th>franchisename_2</th>\n",
       "      <th>franchisename_3</th>\n",
       "      <th>franchisename_4</th>\n",
       "    </tr>\n",
       "  </thead>\n",
       "  <tbody>\n",
       "    <tr>\n",
       "      <th>0</th>\n",
       "      <td>1875.0</td>\n",
       "      <td>NANDOS MAKHA</td>\n",
       "      <td>SPUR AMARILL</td>\n",
       "      <td>Nandos Paledi</td>\n",
       "      <td>KFC MASINGIT</td>\n",
       "    </tr>\n",
       "    <tr>\n",
       "      <th>1</th>\n",
       "      <td>154.0</td>\n",
       "      <td>BURGER KING JE</td>\n",
       "      <td>KFC BLUE VAL</td>\n",
       "      <td>SIMPLY ASIA MA</td>\n",
       "      <td>KFC VORNA VA</td>\n",
       "    </tr>\n",
       "    <tr>\n",
       "      <th>2</th>\n",
       "      <td>1772.0</td>\n",
       "      <td>MCD MountEdgec</td>\n",
       "      <td>KFC PHILANI VA</td>\n",
       "      <td>STEERS DINER U</td>\n",
       "      <td>WIMPY PINECR</td>\n",
       "    </tr>\n",
       "    <tr>\n",
       "      <th>3</th>\n",
       "      <td>2160.0</td>\n",
       "      <td>WIESENHOF COSM</td>\n",
       "      <td>KFC TASBET P</td>\n",
       "      <td>STEERS MIDDE</td>\n",
       "      <td>KFC MIDDELBU</td>\n",
       "    </tr>\n",
       "    <tr>\n",
       "      <th>4</th>\n",
       "      <td>2697.0</td>\n",
       "      <td>MCD Phuthaditj</td>\n",
       "      <td>KENTUCKY FRIED</td>\n",
       "      <td>KFC BETHLEHE</td>\n",
       "      <td>WIMPY NEW MA</td>\n",
       "    </tr>\n",
       "    <tr>\n",
       "      <th>5</th>\n",
       "      <td>290.0</td>\n",
       "      <td>KFC IZINGOLWEN</td>\n",
       "      <td>MC DONALDS L</td>\n",
       "      <td>STEERS WILDCOA</td>\n",
       "      <td>WIMPY SHELLY</td>\n",
       "    </tr>\n",
       "    <tr>\n",
       "      <th>6</th>\n",
       "      <td>4914.0</td>\n",
       "      <td>KEI STEERS D</td>\n",
       "      <td>KFC GREENFIE</td>\n",
       "      <td>Nandos Circus</td>\n",
       "      <td>DEBONAIRS BT N</td>\n",
       "    </tr>\n",
       "    <tr>\n",
       "      <th>7</th>\n",
       "      <td>5898.0</td>\n",
       "      <td>WIMPY METLIF</td>\n",
       "      <td>McDONALDS LINT</td>\n",
       "      <td>KFC KABEGA P</td>\n",
       "      <td>KFC WALKER D</td>\n",
       "    </tr>\n",
       "    <tr>\n",
       "      <th>8</th>\n",
       "      <td>5936.0</td>\n",
       "      <td>WIMPY NEW RE</td>\n",
       "      <td>KFC ELDORADO</td>\n",
       "      <td>WIMPY THE GL</td>\n",
       "      <td>MCD Protea Gle</td>\n",
       "    </tr>\n",
       "    <tr>\n",
       "      <th>9</th>\n",
       "      <td>5959.0</td>\n",
       "      <td>KFC NELSPRUI</td>\n",
       "      <td>WIMPY BARBERTO</td>\n",
       "      <td>NANDOS NELSPR</td>\n",
       "      <td>WIESENHOF MA</td>\n",
       "    </tr>\n",
       "    <tr>\n",
       "      <th>10</th>\n",
       "      <td>5989.0</td>\n",
       "      <td>MCD Vangate (</td>\n",
       "      <td>Nandos Grassy</td>\n",
       "      <td>MCDONALD'S W</td>\n",
       "      <td>KFC SANCTUAR</td>\n",
       "    </tr>\n",
       "    <tr>\n",
       "      <th>11</th>\n",
       "      <td>6244.0</td>\n",
       "      <td>STEERS PRELL</td>\n",
       "      <td>KFC Thaba 'N</td>\n",
       "      <td>MCD Bloemfonte</td>\n",
       "      <td>WIMPY LOCHLOGA</td>\n",
       "    </tr>\n",
       "    <tr>\n",
       "      <th>12</th>\n",
       "      <td>6246.0</td>\n",
       "      <td>STEERS VENTE</td>\n",
       "      <td>NANDOS - MAF</td>\n",
       "      <td>KFC LICHTENB</td>\n",
       "      <td>NANDOS - ZEERU</td>\n",
       "    </tr>\n",
       "    <tr>\n",
       "      <th>13</th>\n",
       "      <td>6305.0</td>\n",
       "      <td>STEERS RESTAUR</td>\n",
       "      <td>MCDONALDS WORC</td>\n",
       "      <td>KFC COLESBER</td>\n",
       "      <td>MCD Worcester</td>\n",
       "    </tr>\n",
       "    <tr>\n",
       "      <th>14</th>\n",
       "      <td>6314.0</td>\n",
       "      <td>WIMPY GOUDKO</td>\n",
       "      <td>WIMPY MOOI RIV</td>\n",
       "      <td>STEERS FLAMW</td>\n",
       "      <td>KFC MATLOLOS</td>\n",
       "    </tr>\n",
       "    <tr>\n",
       "      <th>15</th>\n",
       "      <td>6365.0</td>\n",
       "      <td>SPUR BRAVE H</td>\n",
       "      <td>KFC FARRARME</td>\n",
       "      <td>KFC JANSEN P</td>\n",
       "      <td>STEERS SUNWARD</td>\n",
       "    </tr>\n",
       "    <tr>\n",
       "      <th>16</th>\n",
       "      <td>6778.0</td>\n",
       "      <td>MCD Sammy Mark</td>\n",
       "      <td>STEERS WONDE</td>\n",
       "      <td>Nandos Pretori</td>\n",
       "      <td>NANDO S PRETOR</td>\n",
       "    </tr>\n",
       "    <tr>\n",
       "      <th>17</th>\n",
       "      <td>6790.0</td>\n",
       "      <td>KAUAI KIMBER</td>\n",
       "      <td>McDonalds KIMB</td>\n",
       "      <td>Debonairs Long</td>\n",
       "      <td>WIMPY D/PAVILI</td>\n",
       "    </tr>\n",
       "    <tr>\n",
       "      <th>18</th>\n",
       "      <td>7544.0</td>\n",
       "      <td>NANDOS ESHOW</td>\n",
       "      <td>McD Standert</td>\n",
       "      <td>WIMPY EMPANG</td>\n",
       "      <td>KFC STANDERT</td>\n",
       "    </tr>\n",
       "    <tr>\n",
       "      <th>19</th>\n",
       "      <td>7579.0</td>\n",
       "      <td>KFC SUN VILL</td>\n",
       "      <td>KFC RUSTENBU</td>\n",
       "      <td>KFC TWIN CIT</td>\n",
       "      <td>MCD Thabazimbi</td>\n",
       "    </tr>\n",
       "    <tr>\n",
       "      <th>20</th>\n",
       "      <td>7805.0</td>\n",
       "      <td>MCDONALD'S C</td>\n",
       "      <td>SPUR EL SOMBRE</td>\n",
       "      <td>KFC BAKERS M</td>\n",
       "      <td>STEERS AUTOB</td>\n",
       "    </tr>\n",
       "    <tr>\n",
       "      <th>21</th>\n",
       "      <td>7916.0</td>\n",
       "      <td>KFC GROBLERS</td>\n",
       "      <td>NANDOS GROBLER</td>\n",
       "      <td>DEBONAIRS SI</td>\n",
       "      <td>KFC MOUTSIYA</td>\n",
       "    </tr>\n",
       "    <tr>\n",
       "      <th>22</th>\n",
       "      <td>8188.0</td>\n",
       "      <td>WIMPY FLORID</td>\n",
       "      <td>KFC EMMARENT</td>\n",
       "      <td>KFC NOORDHEU</td>\n",
       "      <td>WIMPY RANDFONT</td>\n",
       "    </tr>\n",
       "    <tr>\n",
       "      <th>23</th>\n",
       "      <td>8577.0</td>\n",
       "      <td>MCDONALD'S V</td>\n",
       "      <td>STEERS VAAL MA</td>\n",
       "      <td>KFC Vanderbijl</td>\n",
       "      <td>WIMPY VAALMA</td>\n",
       "    </tr>\n",
       "  </tbody>\n",
       "</table>\n",
       "</div>"
      ],
      "text/plain": [
       "    community franchisename_1 franchisename_2 franchisename_3 franchisename_4\n",
       "0      1875.0    NANDOS MAKHA    SPUR AMARILL   Nandos Paledi    KFC MASINGIT\n",
       "1       154.0  BURGER KING JE    KFC BLUE VAL  SIMPLY ASIA MA    KFC VORNA VA\n",
       "2      1772.0  MCD MountEdgec  KFC PHILANI VA  STEERS DINER U    WIMPY PINECR\n",
       "3      2160.0  WIESENHOF COSM    KFC TASBET P    STEERS MIDDE    KFC MIDDELBU\n",
       "4      2697.0  MCD Phuthaditj  KENTUCKY FRIED    KFC BETHLEHE    WIMPY NEW MA\n",
       "5       290.0  KFC IZINGOLWEN    MC DONALDS L  STEERS WILDCOA    WIMPY SHELLY\n",
       "6      4914.0    KEI STEERS D    KFC GREENFIE   Nandos Circus  DEBONAIRS BT N\n",
       "7      5898.0    WIMPY METLIF  McDONALDS LINT    KFC KABEGA P    KFC WALKER D\n",
       "8      5936.0    WIMPY NEW RE    KFC ELDORADO    WIMPY THE GL  MCD Protea Gle\n",
       "9      5959.0    KFC NELSPRUI  WIMPY BARBERTO   NANDOS NELSPR    WIESENHOF MA\n",
       "10     5989.0   MCD Vangate (   Nandos Grassy    MCDONALD'S W    KFC SANCTUAR\n",
       "11     6244.0    STEERS PRELL    KFC Thaba 'N  MCD Bloemfonte  WIMPY LOCHLOGA\n",
       "12     6246.0    STEERS VENTE    NANDOS - MAF    KFC LICHTENB  NANDOS - ZEERU\n",
       "13     6305.0  STEERS RESTAUR  MCDONALDS WORC    KFC COLESBER   MCD Worcester\n",
       "14     6314.0    WIMPY GOUDKO  WIMPY MOOI RIV    STEERS FLAMW    KFC MATLOLOS\n",
       "15     6365.0    SPUR BRAVE H    KFC FARRARME    KFC JANSEN P  STEERS SUNWARD\n",
       "16     6778.0  MCD Sammy Mark    STEERS WONDE  Nandos Pretori  NANDO S PRETOR\n",
       "17     6790.0    KAUAI KIMBER  McDonalds KIMB  Debonairs Long  WIMPY D/PAVILI\n",
       "18     7544.0    NANDOS ESHOW    McD Standert    WIMPY EMPANG    KFC STANDERT\n",
       "19     7579.0    KFC SUN VILL    KFC RUSTENBU    KFC TWIN CIT  MCD Thabazimbi\n",
       "20     7805.0    MCDONALD'S C  SPUR EL SOMBRE    KFC BAKERS M    STEERS AUTOB\n",
       "21     7916.0    KFC GROBLERS  NANDOS GROBLER    DEBONAIRS SI    KFC MOUTSIYA\n",
       "22     8188.0    WIMPY FLORID    KFC EMMARENT    KFC NOORDHEU  WIMPY RANDFONT\n",
       "23     8577.0    MCDONALD'S V  STEERS VAAL MA  KFC Vanderbijl    WIMPY VAALMA"
      ]
     },
     "execution_count": 69,
     "metadata": {},
     "output_type": "execute_result"
    }
   ],
   "source": [
    "answer_df"
   ]
  },
  {
   "cell_type": "code",
   "execution_count": 70,
   "metadata": {},
   "outputs": [],
   "source": [
    "location_df=pd.DataFrame()\n",
    "d={'community':1875, 'area':'Makhado', 'location': '-23.040329, 29.907955'}\n",
    "location_df=location_df.append(d, ignore_index=True)\n",
    "d={'community':154, 'area':'Centurion', 'location': '-25.841164, 28.185680'}\n",
    "location_df=location_df.append(d, ignore_index=True)\n",
    "d={'community':1772, 'area':'Umhlangha', 'location': '-29.725526, 31.038057'}\n",
    "location_df=location_df.append(d, ignore_index=True)\n",
    "d={'community':2160, 'area':'Emalahleni', 'location': '-25.883386, 29.233104'}\n",
    "location_df=location_df.append(d, ignore_index=True)\n",
    "d={'community':2697, 'area':'Bethlehem', 'location': '-28.182308, 28.304568'}\n",
    "location_df=location_df.append(d, ignore_index=True)\n",
    "d={'community':290, 'area':'Port Edward', 'location': '30.784865, 30.133764'}\n",
    "location_df=location_df.append(d, ignore_index=True)\n",
    "d={'community':4914, 'area':'East London', 'location': '-32.505660, 27.980685'}\n",
    "location_df=location_df.append(d, ignore_index=True)\n",
    "d={'community':5898, 'area':'Port Elizabeth', 'location': '-33.946310, 25.509027'}\n",
    "location_df=location_df.append(d, ignore_index=True)\n",
    "d={'community':5936, 'area':'Alberton', 'location': '-26.261012, 28.115685'}\n",
    "location_df=location_df.append(d, ignore_index=True)\n",
    "d={'community':5959, 'area':'Nelspruit', 'location': '-25.346253, 30.962704'}\n",
    "location_df=location_df.append(d, ignore_index=True)\n",
    "d={'community':5989, 'area':'Cape Town', 'location': '-33.958561, 18.539641'}\n",
    "location_df=location_df.append(d, ignore_index=True)\n",
    "d={'community':6244, 'area':'Bloemfontein', 'location': '-29.086566, 26.211717'}\n",
    "location_df=location_df.append(d, ignore_index=True)\n",
    "d={'community':6246, 'area':'Ventersdorp', 'location': '-26.332893, 26.804443'}\n",
    "location_df=location_df.append(d, ignore_index=True)\n",
    "d={'community':6305, 'area':'Worcester', 'location': '-33.641490, 19.449015'}\n",
    "location_df=location_df.append(d, ignore_index=True)\n",
    "d={'community':6314, 'area':'Klerksdorp', 'location': '-26.866751, 26.643835'}\n",
    "location_df=location_df.append(d, ignore_index=True)\n",
    "d={'community':6365, 'area':'Kempton Park', 'location': '-26.062117, 28.220977'}\n",
    "location_df=location_df.append(d, ignore_index=True)\n",
    "d={'community':6778, 'area':'Wonderboom', 'location': '-25.685555, 28.190614'}\n",
    "location_df=location_df.append(d, ignore_index=True)\n",
    "d={'community':6790, 'area':'Kimberley', 'location': '-28.756451, 24.753912'}\n",
    "location_df=location_df.append(d, ignore_index=True)\n",
    "d={'community':7544, 'area':'Eshowe', 'location': '-28.894043, 31.467636'}\n",
    "location_df=location_df.append(d, ignore_index=True)\n",
    "d={'community':7579, 'area':'Rustenburg', 'location': '-25.361360, 27.099350'}\n",
    "location_df=location_df.append(d, ignore_index=True)\n",
    "d={'community':7805, 'area':'Pietermaritzburg', 'location': '-29.615721, 30.393890'}\n",
    "location_df=location_df.append(d, ignore_index=True)\n",
    "d={'community':7916, 'area':'Groblersdal', 'location': '-25.168414, 29.396050'}\n",
    "location_df=location_df.append(d, ignore_index=True)\n",
    "d={'community':8188, 'area':'Florida', 'location': '-26.147890, 27.901389'}\n",
    "location_df=location_df.append(d, ignore_index=True)\n",
    "d={'community':8577, 'area':'Vanderbijlpark', 'location': '-26.709675, 27.822882'}\n",
    "location_df=location_df.append(d, ignore_index=True)"
   ]
  },
  {
   "cell_type": "code",
   "execution_count": 73,
   "metadata": {},
   "outputs": [
    {
     "data": {
      "text/html": [
       "<div>\n",
       "<style scoped>\n",
       "    .dataframe tbody tr th:only-of-type {\n",
       "        vertical-align: middle;\n",
       "    }\n",
       "\n",
       "    .dataframe tbody tr th {\n",
       "        vertical-align: top;\n",
       "    }\n",
       "\n",
       "    .dataframe thead th {\n",
       "        text-align: right;\n",
       "    }\n",
       "</style>\n",
       "<table border=\"1\" class=\"dataframe\">\n",
       "  <thead>\n",
       "    <tr style=\"text-align: right;\">\n",
       "      <th></th>\n",
       "      <th>franchisename</th>\n",
       "      <th>score</th>\n",
       "      <th>community</th>\n",
       "      <th>membercount</th>\n",
       "    </tr>\n",
       "  </thead>\n",
       "  <tbody>\n",
       "    <tr>\n",
       "      <th>0</th>\n",
       "      <td>MCDONALD'S V</td>\n",
       "      <td>2.011277</td>\n",
       "      <td>8577</td>\n",
       "      <td>72</td>\n",
       "    </tr>\n",
       "    <tr>\n",
       "      <th>1</th>\n",
       "      <td>STEERS VAAL MA</td>\n",
       "      <td>1.512435</td>\n",
       "      <td>8577</td>\n",
       "      <td>72</td>\n",
       "    </tr>\n",
       "    <tr>\n",
       "      <th>2</th>\n",
       "      <td>KFC Vanderbijl</td>\n",
       "      <td>1.184150</td>\n",
       "      <td>8577</td>\n",
       "      <td>72</td>\n",
       "    </tr>\n",
       "    <tr>\n",
       "      <th>3</th>\n",
       "      <td>WIMPY VAALMA</td>\n",
       "      <td>1.079826</td>\n",
       "      <td>8577</td>\n",
       "      <td>72</td>\n",
       "    </tr>\n",
       "    <tr>\n",
       "      <th>4</th>\n",
       "      <td>NANDOS VANDE</td>\n",
       "      <td>0.865251</td>\n",
       "      <td>8577</td>\n",
       "      <td>72</td>\n",
       "    </tr>\n",
       "    <tr>\n",
       "      <th>...</th>\n",
       "      <td>...</td>\n",
       "      <td>...</td>\n",
       "      <td>...</td>\n",
       "      <td>...</td>\n",
       "    </tr>\n",
       "    <tr>\n",
       "      <th>67</th>\n",
       "      <td>SPUR CUNCUN</td>\n",
       "      <td>0.150000</td>\n",
       "      <td>8577</td>\n",
       "      <td>72</td>\n",
       "    </tr>\n",
       "    <tr>\n",
       "      <th>68</th>\n",
       "      <td>SPUR OAK CREEK</td>\n",
       "      <td>0.150000</td>\n",
       "      <td>8577</td>\n",
       "      <td>72</td>\n",
       "    </tr>\n",
       "    <tr>\n",
       "      <th>69</th>\n",
       "      <td>STEERS MEYERTON</td>\n",
       "      <td>0.150000</td>\n",
       "      <td>8577</td>\n",
       "      <td>72</td>\n",
       "    </tr>\n",
       "    <tr>\n",
       "      <th>70</th>\n",
       "      <td>WIMPY RIVER SQUARE</td>\n",
       "      <td>0.150000</td>\n",
       "      <td>8577</td>\n",
       "      <td>72</td>\n",
       "    </tr>\n",
       "    <tr>\n",
       "      <th>71</th>\n",
       "      <td>WIMPY RIVERSIDE BOUL</td>\n",
       "      <td>0.150000</td>\n",
       "      <td>8577</td>\n",
       "      <td>72</td>\n",
       "    </tr>\n",
       "  </tbody>\n",
       "</table>\n",
       "<p>72 rows × 4 columns</p>\n",
       "</div>"
      ],
      "text/plain": [
       "           franchisename     score  community  membercount\n",
       "0           MCDONALD'S V  2.011277       8577           72\n",
       "1         STEERS VAAL MA  1.512435       8577           72\n",
       "2         KFC Vanderbijl  1.184150       8577           72\n",
       "3           WIMPY VAALMA  1.079826       8577           72\n",
       "4           NANDOS VANDE  0.865251       8577           72\n",
       "..                   ...       ...        ...          ...\n",
       "67           SPUR CUNCUN  0.150000       8577           72\n",
       "68        SPUR OAK CREEK  0.150000       8577           72\n",
       "69       STEERS MEYERTON  0.150000       8577           72\n",
       "70    WIMPY RIVER SQUARE  0.150000       8577           72\n",
       "71  WIMPY RIVERSIDE BOUL  0.150000       8577           72\n",
       "\n",
       "[72 rows x 4 columns]"
      ]
     },
     "execution_count": 73,
     "metadata": {},
     "output_type": "execute_result"
    }
   ],
   "source": [
    "df"
   ]
  },
  {
   "cell_type": "code",
   "execution_count": 82,
   "metadata": {},
   "outputs": [],
   "source": [
    "gf=df.merge(answer_df, left_on='triadic_56101_community', right_on='community')\n",
    "result_df=location_df.merge(gf, left_on='community',right_on='community')"
   ]
  },
  {
   "cell_type": "code",
   "execution_count": 83,
   "metadata": {},
   "outputs": [],
   "source": [
    "result_df.to_csv('/media/lnr-ai/christo/github_repos/graphing/data/fastfood_community_df.csv', index=False)"
   ]
  },
  {
   "cell_type": "code",
   "execution_count": 87,
   "metadata": {},
   "outputs": [
    {
     "name": "stdout",
     "output_type": "stream",
     "text": [
      "\\begin{tabular}{rlrl}\n",
      "\\toprule\n",
      " community &              area &  membercount & franchisename\\_1 \\\\\n",
      "\\midrule\n",
      "    7916.0 &       Groblersdal &           25 &    KFC GROBLERS \\\\\n",
      "    2697.0 &         Bethlehem &           30 &  MCD Phuthaditj \\\\\n",
      "    6246.0 &       Ventersdorp &           32 &    STEERS VENTE \\\\\n",
      "    6305.0 &         Worcester &           44 &  STEERS RESTAUR \\\\\n",
      "    6314.0 &        Klerksdorp &           55 &    WIMPY GOUDKO \\\\\n",
      "     290.0 &       Port Edward &           61 &  KFC IZINGOLWEN \\\\\n",
      "    6790.0 &         Kimberley &           69 &    KAUAI KIMBER \\\\\n",
      "    8577.0 &    Vanderbijlpark &           72 &    MCDONALD'S V \\\\\n",
      "    2160.0 &        Emalahleni &           84 &  WIESENHOF COSM \\\\\n",
      "    5959.0 &         Nelspruit &           96 &    KFC NELSPRUI \\\\\n",
      "    6244.0 &      Bloemfontein &          109 &    STEERS PRELL \\\\\n",
      "    7805.0 &  Pietermaritzburg &          115 &    MCDONALD'S C \\\\\n",
      "    7579.0 &        Rustenburg &          122 &    KFC SUN VILL \\\\\n",
      "    1875.0 &           Makhado &          128 &    NANDOS MAKHA \\\\\n",
      "    7544.0 &            Eshowe &          149 &    NANDOS ESHOW \\\\\n",
      "    5898.0 &    Port Elizabeth &          187 &    WIMPY METLIF \\\\\n",
      "    4914.0 &       East London &          241 &    KEI STEERS D \\\\\n",
      "     154.0 &         Centurion &          258 &  BURGER KING JE \\\\\n",
      "    6778.0 &        Wonderboom &          319 &  MCD Sammy Mark \\\\\n",
      "    5936.0 &          Alberton &          351 &    WIMPY NEW RE \\\\\n",
      "    6365.0 &      Kempton Park &          364 &    SPUR BRAVE H \\\\\n",
      "    8188.0 &           Florida &          398 &    WIMPY FLORID \\\\\n",
      "    1772.0 &         Umhlangha &          517 &  MCD MountEdgec \\\\\n",
      "    5989.0 &         Cape Town &          765 &   MCD Vangate ( \\\\\n",
      "\\bottomrule\n",
      "\\end{tabular}\n",
      "\n"
     ]
    }
   ],
   "source": [
    "print(result_df[['community', 'area', 'membercount','franchisename_1']].sort_values('membercount').to_latex(index=False))"
   ]
  },
  {
   "cell_type": "code",
   "execution_count": 51,
   "metadata": {},
   "outputs": [
    {
     "data": {
      "text/plain": [
       "['/media/lnr-ai/christo/github_repos/graphing/data']"
      ]
     },
     "execution_count": 51,
     "metadata": {},
     "output_type": "execute_result"
    }
   ],
   "source": [
    "# this code takes the content of \"text.txt\" and store it into my_text\n",
    "extension=\"*.md\"\n",
    "search_word=\"docker\"\n",
    "# path='/media/lnr-ai/christo/github_repos/money_personalities/'\n",
    "result_dict={}\n",
    "path='/media/lnr-ai/christo/github_repos/graphing/data/'\n",
    "file_list=glob.glob(path+'/'+extension)\n",
    "#     print(path+extension)\n",
    "for file_name in file_list:\n",
    "    print(file_name)\n",
    "    with open(file_name) as file:\n",
    "        my_text = file.read()\n",
    "        if my_text.count(search_word)>0:\n",
    "            print('found {search_word} in {file_name}!'.format(search_word=search_word, file_name=file_name))\n",
    "            result_dict[file_name]=my_text.count(search_word)"
   ]
  },
  {
   "cell_type": "code",
   "execution_count": null,
   "metadata": {},
   "outputs": [],
   "source": [
    "graph = Graph(\"bolt://localhost:7687\", user='neo4j', password='newPassword')\n",
    "hf=pd.DataFrame()\n",
    "donelist=[]\n",
    "leftoverlist=triadic_56101_community_list.copy()\n",
    "counter=0\n",
    "for community in triadic_56101_community_list:\n",
    "    print('Doing community {community}, {counter} of {total}'.format(community=community,counter=len(donelist),total=len(triadic_56101_community_list)))\n",
    "    graphname=\"\"\"fastfood_{community}\"\"\".format(community=community)\n",
    "    query=\"\"\"CALL gds.graph.exists('{graphname}') YIELD exists;\"\"\".format(graphname=graphname)\n",
    "    exists=graph.run(query).data()\n",
    "    if exists[0]['exists']:\n",
    "        print(\"graph exists!\")\n",
    "        graph.run(\"\"\"CALL gds.graph.drop('{graphname}') YIELD graphName;\"\"\".format(graphname=graphname)).data()\n",
    "    #     CALL gds.graph.drop('my-store-graph') YIELD graphName;\n",
    "    else:\n",
    "        print(\"graph doesn't exist!\")\n",
    "    # ----------------------------------------------------------------------------\n",
    "    create_graph_query=\"\"\"\n",
    "    CALL gds.graph.create.cypher(\n",
    "        'fastfood_{community}',\n",
    "        'MATCH (m:Merchant {{subclass_id:56101}}) WHERE EXISTS(m.triadic_56101_community) AND \n",
    "        m.triadic_56101_community = {community} RETURN ID(m) AS id',\n",
    "        'MATCH (a:Merchant)-[:TRIADIC_MERCHANT_FEET_LINK]->(b:Merchant) WHERE ID(a)<ID(b) AND\n",
    "        EXISTS(a.triadic_56101_community) AND EXISTS(b.triadic_56101_community) AND\n",
    "        a.triadic_56101_community = {community} AND\n",
    "        b.triadic_56101_community = {community}\n",
    "         RETURN ID(a) AS source, ID(b) AS target'\n",
    "    );\n",
    "    \"\"\".format(community=community)\n",
    "    graph.run(create_graph_query).data()\n",
    "\n",
    "    pagerank_query=\"\"\"CALL gds.pageRank.stream('{graphname}', {{ maxIterations: 20, dampingFactor: 0.85 }})\n",
    "    YIELD nodeId, score\n",
    "    RETURN gds.util.asNode(nodeId).franchisename AS franchisename, score\n",
    "    ORDER BY score DESC, franchisename ASC;\"\"\".format(graphname=graphname)\n",
    "    gf=graph.run(pagerank_query).to_data_frame()\n",
    "    gf['community']=community\n",
    "    gf['membercount']=list(df[df.triadic_56101_community==community]['membercount'])[0]\n",
    "    gf.to_csv(path_or_buf='/media/lnr-ai/christo/github_repos/graphing/data/triadic_56101_community_df_{community}'.format(community=community),index=False) \n",
    "    hf = hf.append(gf, ignore_index=True)\n",
    "    print(gf)\n",
    "    print(\"Delete graph {graphname}...\".format(graphname=graphname))\n",
    "    graph.run(\"\"\"CALL gds.graph.drop('{graphname}') YIELD graphName;\"\"\".format(graphname=graphname)).data()\n",
    "#     print('-Sleep 60s---------------------------------')\n",
    "#     time.sleep(60)\n",
    "    donelist.append(community)\n",
    "    leftoverlist.pop(leftoverlist.index(community))\n",
    "    print(leftoverlist)\n",
    "    counter+=1\n",
    "    print(\"====================================================================================\")"
   ]
  },
  {
   "cell_type": "code",
   "execution_count": null,
   "metadata": {},
   "outputs": [],
   "source": [
    "leftoverlist"
   ]
  },
  {
   "cell_type": "code",
   "execution_count": null,
   "metadata": {},
   "outputs": [],
   "source": [
    "# from py2neo import Graph\n",
    "graph = Graph(\"bolt://localhost:7687\", user='neo4j', password='newPassword')\n",
    "hf=pd.DataFrame()\n",
    "donelist=[]\n",
    "tmp_list=leftoverlist.copy()\n",
    "# leftoverlist=tmp_list\n",
    "counter=0\n",
    "for community in leftoverlist:\n",
    "    print('Doing community {community}, {counter} of {total}'.format(community=community,counter=len(donelist),total=len(tmp_list)))\n",
    "    graphname=\"\"\"fastfood_{community}\"\"\".format(community=community)\n",
    "    query=\"\"\"CALL gds.graph.exists('{graphname}') YIELD exists;\"\"\".format(graphname=graphname)\n",
    "    exists=graph.run(query).data()\n",
    "    if exists[0]['exists']:\n",
    "        print(\"graph exists!\")\n",
    "        graph.run(\"\"\"CALL gds.graph.drop('{graphname}') YIELD graphName;\"\"\".format(graphname=graphname)).data()\n",
    "    #     CALL gds.graph.drop('my-store-graph') YIELD graphName;\n",
    "    else:\n",
    "        print(\"graph doesn't exist!\")\n",
    "    # ----------------------------------------------------------------------------\n",
    "    create_graph_query=\"\"\"\n",
    "    CALL gds.graph.create.cypher(\n",
    "        'fastfood_{community}',\n",
    "        'MATCH (m:Merchant {{subclass_id:56101}}) WHERE EXISTS(m.triadic_56101_community) AND \n",
    "        m.triadic_56101_community = {community} RETURN ID(m) AS id',\n",
    "        'MATCH (a:Merchant)-[:TRIADIC_MERCHANT_FEET_LINK]->(b:Merchant) WHERE ID(a)<ID(b) AND\n",
    "        EXISTS(a.triadic_56101_community) AND EXISTS(b.triadic_56101_community) AND\n",
    "        a.triadic_56101_community = {community} AND\n",
    "        b.triadic_56101_community = {community}\n",
    "         RETURN ID(a) AS source, ID(b) AS target'\n",
    "    );\n",
    "    \"\"\".format(community=community)\n",
    "    graph.run(create_graph_query).data()\n",
    "\n",
    "    pagerank_query=\"\"\"CALL gds.pageRank.stream('{graphname}', {{ maxIterations: 20, dampingFactor: 0.85 }})\n",
    "    YIELD nodeId, score\n",
    "    RETURN gds.util.asNode(nodeId).franchisename AS franchisename, score\n",
    "    ORDER BY score DESC, franchisename ASC;\"\"\".format(graphname=graphname)\n",
    "    gf=graph.run(pagerank_query).to_data_frame()\n",
    "    gf['community']=community\n",
    "    gf['membercount']=list(df[df.triadic_56101_community==community]['membercount'])[0]\n",
    "    gf.to_csv(path_or_buf='/media/lnr-ai/christo/github_repos/graphing/data/triadic_56101_community_df_{community}'.format(community=community),index=False) \n",
    "    hf = hf.append(gf, ignore_index=True)\n",
    "    print(gf)\n",
    "    print(\"Delete graph {graphname}...\".format(graphname=graphname))\n",
    "    graph.run(\"\"\"CALL gds.graph.drop('{graphname}') YIELD graphName;\"\"\".format(graphname=graphname)).data()\n",
    "#     print('-Sleep 60s---------------------------------')\n",
    "#     time.sleep(60)\n",
    "    donelist.append(community)\n",
    "    tmp_list.pop(tmp_list.index(community))\n",
    "    print(tmp_list)\n",
    "    counter+=1\n",
    "    print(\"====================================================================================\")"
   ]
  },
  {
   "cell_type": "code",
   "execution_count": null,
   "metadata": {},
   "outputs": [],
   "source": [
    "# from py2neo import Graph\n",
    "graph = Graph(\"bolt://localhost:7687\", user='neo4j', password='newPassword')\n",
    "hf=pd.DataFrame()\n",
    "donelist=[]\n",
    "leftoverlist=tmp_list.copy()\n",
    "# leftoverlist=tmp_list\n",
    "counter=0\n",
    "for community in leftoverlist:\n",
    "    print('Doing community {community}, {counter} of {total}'.format(community=community,counter=len(donelist),total=len(tmp_list)))\n",
    "    graphname=\"\"\"fastfood_{community}\"\"\".format(community=community)\n",
    "    query=\"\"\"CALL gds.graph.exists('{graphname}') YIELD exists;\"\"\".format(graphname=graphname)\n",
    "    exists=graph.run(query).data()\n",
    "    if exists[0]['exists']:\n",
    "        print(\"graph exists!\")\n",
    "        graph.run(\"\"\"CALL gds.graph.drop('{graphname}') YIELD graphName;\"\"\".format(graphname=graphname)).data()\n",
    "    #     CALL gds.graph.drop('my-store-graph') YIELD graphName;\n",
    "    else:\n",
    "        print(\"graph doesn't exist!\")\n",
    "    # ----------------------------------------------------------------------------\n",
    "    create_graph_query=\"\"\"\n",
    "    CALL gds.graph.create.cypher(\n",
    "        'fastfood_{community}',\n",
    "        'MATCH (m:Merchant {{subclass_id:56101}}) WHERE EXISTS(m.triadic_56101_community) AND \n",
    "        m.triadic_56101_community = {community} RETURN ID(m) AS id',\n",
    "        'MATCH (a:Merchant)-[:TRIADIC_MERCHANT_FEET_LINK]->(b:Merchant) WHERE ID(a)<ID(b) AND\n",
    "        EXISTS(a.triadic_56101_community) AND EXISTS(b.triadic_56101_community) AND\n",
    "        a.triadic_56101_community = {community} AND\n",
    "        b.triadic_56101_community = {community}\n",
    "         RETURN ID(a) AS source, ID(b) AS target'\n",
    "    );\n",
    "    \"\"\".format(community=community)\n",
    "    graph.run(create_graph_query).data()\n",
    "\n",
    "    pagerank_query=\"\"\"CALL gds.pageRank.stream('{graphname}', {{ maxIterations: 20, dampingFactor: 0.85 }})\n",
    "    YIELD nodeId, score\n",
    "    RETURN gds.util.asNode(nodeId).franchisename AS franchisename, score\n",
    "    ORDER BY score DESC, franchisename ASC;\"\"\".format(graphname=graphname)\n",
    "    gf=graph.run(pagerank_query).to_data_frame()\n",
    "    gf['community']=community\n",
    "    gf['membercount']=list(df[df.triadic_56101_community==community]['membercount'])[0]\n",
    "    gf.to_csv(path_or_buf='/media/lnr-ai/christo/github_repos/graphing/data/triadic_56101_community_df_{community}'.format(community=community),index=False) \n",
    "    hf = hf.append(gf, ignore_index=True)\n",
    "    print(gf)\n",
    "    print(\"Delete graph {graphname}...\".format(graphname=graphname))\n",
    "    graph.run(\"\"\"CALL gds.graph.drop('{graphname}') YIELD graphName;\"\"\".format(graphname=graphname)).data()\n",
    "#     print('-Sleep 60s---------------------------------')\n",
    "#     time.sleep(60)\n",
    "    donelist.append(community)\n",
    "    tmp_list.pop(tmp_list.index(community))\n",
    "    print(tmp_list)\n",
    "    counter+=1\n",
    "    print(\"====================================================================================\")"
   ]
  },
  {
   "cell_type": "code",
   "execution_count": null,
   "metadata": {},
   "outputs": [],
   "source": [
    "# graph.run(\"\"\"CALL gds.graph.exists('fastfood_{community}') YIELD exists;\"\"\".format(community=community)).data"
   ]
  },
  {
   "cell_type": "code",
   "execution_count": null,
   "metadata": {},
   "outputs": [],
   "source": [
    "graph.run(\"\"\"CALL gds.graph.exists('fastfood_{community}');\"\"\".format(community=community)).data"
   ]
  },
  {
   "cell_type": "code",
   "execution_count": null,
   "metadata": {},
   "outputs": [],
   "source": [
    "community=5936\n",
    "print('Doing community {community}'.format(community=community))\n",
    "graphname=\"\"\"fastfood_{community}\"\"\".format(community=community)\n",
    "query=\"\"\"CALL gds.graph.exists('{graphname}') YIELD exists;\"\"\".format(graphname=graphname)\n",
    "exists=graph.run(query).data()\n",
    "if exists[0]['exists']:\n",
    "    print(\"graph exists!\")\n",
    "    graph.run(\"\"\"CALL gds.graph.drop('{graphname}') YIELD graphName;\"\"\".format(graphname=graphname)).data()\n",
    "#     CALL gds.graph.drop('my-store-graph') YIELD graphName;\n",
    "else:\n",
    "    print(\"graph doesn't exist!\")\n",
    "# ----------------------------------------------------------------------------\n",
    "create_graph_query=\"\"\"\n",
    "CALL gds.graph.create.cypher(\n",
    "    'fastfood_{community}',\n",
    "    'MATCH (m:Merchant {{subclass_id:56101}}) WHERE EXISTS(m.triadic_56101_community) AND \n",
    "    m.triadic_56101_community = {community} RETURN ID(m) AS id',\n",
    "    'MATCH (a:Merchant)-[:TRIADIC_MERCHANT_FEET_LINK]->(b:Merchant) WHERE ID(a)<ID(b) AND\n",
    "    EXISTS(a.triadic_56101_community) AND EXISTS(b.triadic_56101_community) AND\n",
    "    a.triadic_56101_community = {community} AND\n",
    "    b.triadic_56101_community = {community}\n",
    "     RETURN ID(a) AS source, ID(b) AS target'\n",
    ");\n",
    "\"\"\".format(community=community)\n",
    "graph.run(create_graph_query).data()\n",
    "\n",
    "pagerank_query=\"\"\"CALL gds.pageRank.stream('{graphname}', {{ maxIterations: 20, dampingFactor: 0.85 }})\n",
    "YIELD nodeId, score\n",
    "RETURN gds.util.asNode(nodeId).franchisename AS franchisename, score\n",
    "ORDER BY score DESC, franchisename ASC;\"\"\".format(graphname=graphname)\n",
    "gf=graph.run(pagerank_query).to_data_frame()\n",
    "gf['community']=community\n",
    "gf['membercount']=list(df[df.triadic_56101_community==community]['membercount'])[0]\n",
    "hf = hf.append(gf, ignore_index=True)\n",
    "print(gf)\n",
    "print(\"Delete graph {graphname}...\".format(graphname=graphname))\n",
    "graph.run(\"\"\"CALL gds.graph.drop('{graphname}') YIELD graphName;\"\"\".format(graphname=graphname)).data()\n",
    "\n",
    "print(\"====================================================================================\")"
   ]
  },
  {
   "cell_type": "code",
   "execution_count": null,
   "metadata": {},
   "outputs": [],
   "source": [
    "triadic_56101_community_list"
   ]
  },
  {
   "cell_type": "markdown",
   "metadata": {},
   "source": [
    "### Delete community client link edges"
   ]
  },
  {
   "cell_type": "markdown",
   "metadata": {},
   "source": [
    "Choose community:"
   ]
  },
  {
   "cell_type": "code",
   "execution_count": null,
   "metadata": {},
   "outputs": [],
   "source": [
    "community=2697"
   ]
  },
  {
   "cell_type": "code",
   "execution_count": null,
   "metadata": {},
   "outputs": [],
   "source": [
    "graph = Graph(\"bolt://localhost:7687\", user='neo4j', password='newPassword')\n",
    "delete_query=\"\"\"CALL apoc.periodic.iterate('MATCH (client0:Client)-[cl:CLIENT_LINK_{community}]-(client1:Client)\n",
    "WHERE ID(client1)<ID(client0)\n",
    "RETURN cl;'\n",
    ", 'DELETE cl', {{batchSize:500, iterateList:true, parallel:true}})\n",
    "yield batches, total return batches, total;\"\"\".format(community=community)\n",
    "graph.run(delete_query).data()"
   ]
  },
  {
   "cell_type": "code",
   "execution_count": null,
   "metadata": {},
   "outputs": [],
   "source": [
    "graph = Graph(\"bolt://localhost:7687\", user='neo4j', password='newPassword')\n",
    "count_links_query=\"\"\"MATCH (client0:Client)-[cl:CLIENT_LINK_{community}]-(client1:Client)\n",
    "WHERE ID(client1)<ID(client0)\n",
    "RETURN count(cl) as client_links;\"\"\".format(community=community)\n",
    "# graph.run(count_links_query).data()\n",
    "df=graph.run(count_links_query).to_data_frame()"
   ]
  },
  {
   "cell_type": "code",
   "execution_count": null,
   "metadata": {},
   "outputs": [],
   "source": [
    "df"
   ]
  },
  {
   "cell_type": "code",
   "execution_count": null,
   "metadata": {},
   "outputs": [],
   "source": [
    "# community=2697\n",
    "graph = Graph(\"bolt://localhost:7687\", user='neo4j', password='newPassword')\n",
    "client_link_query=\"\"\"CALL apoc.periodic.iterate('MATCH (client0:Client)-[t0:TRANSACTED_AT]->(merchant:Merchant)<-[t1:TRANSACTED_AT]-(client1:Client)\n",
    "WHERE ID(client0) < ID(client1) AND \n",
    "merchant.triadic_56101_community = {community} \n",
    "RETURN client0, client1, t0, t1;\n",
    "', \"MERGE (client0)-[link:CLIENT_LINK_{community}]-(client1)\n",
    "ON CREATE SET link.count = 1,\n",
    "link.ID0=ID(client0),\n",
    "link.ID1=ID(client1),\n",
    "link.transactioncount0 = t0.transactioncount,\n",
    "link.transactioncount1 = t1.transactioncount,\n",
    "link.transactionamount0 = t0.transactionamount,\n",
    "link.transactionamount1 = t1.transactionamount\n",
    "ON MATCH SET link.count = link.count + 1,\n",
    "link.transactioncount0 = link.transactioncount0+t0.transactioncount,\n",
    "link.transactioncount1 = link.transactioncount1+t1.transactioncount,\n",
    "link.transactionamount0 = link.transactionamount0+t0.transactionamount,\n",
    "link.transactionamount1 = link.transactionamount1+t1.transactionamount;\", {{batchSize:500, iterateList:true, parallel:true}})\n",
    "yield batches, total return batches, total;\n",
    "\"\"\".format(community=community)\n",
    "graph.run(client_link_query).data()"
   ]
  },
  {
   "cell_type": "markdown",
   "metadata": {},
   "source": [
    "### Check sub graph existence and delete"
   ]
  },
  {
   "cell_type": "code",
   "execution_count": null,
   "metadata": {},
   "outputs": [],
   "source": [
    "print('Doing community {community}'.format(community=community))\n",
    "graphname=\"\"\"client_link_graph_{community}\"\"\".format(community=community)\n",
    "query=\"\"\"CALL gds.graph.exists('{graphname}') YIELD exists;\"\"\".format(graphname=graphname)\n",
    "exists=graph.run(query).data()\n",
    "if exists[0]['exists']:\n",
    "    print(\"graph exists!\")\n",
    "    graph.run(\"\"\"CALL gds.graph.drop('{graphname}') YIELD graphName;\"\"\".format(graphname=graphname)).data()\n",
    "#     CALL gds.graph.drop('my-store-graph') YIELD graphName;\n",
    "else:\n",
    "    print(\"graph doesn't exist!\")"
   ]
  },
  {
   "cell_type": "markdown",
   "metadata": {},
   "source": [
    "### Create a subgraph for clients related via a client_link relationship between clients for ONE merchant cluster/community"
   ]
  },
  {
   "cell_type": "code",
   "execution_count": null,
   "metadata": {},
   "outputs": [],
   "source": [
    "subgraph_query=\"\"\"CALL gds.graph.create.cypher(\n",
    "    '{graphname}',\n",
    "    'MATCH (c0:Client)-[:TRANSACTED_AT]->(m:Merchant) WHERE EXISTS(m.triadic_56101_community) AND \n",
    "    m.triadic_56101_community = {community} RETURN id(c0) AS id',\n",
    "    'MATCH (c0:Client)-[rel:CLIENT_LINK_{community}]-(c1:Client) RETURN id(c0) AS source, id(c1) AS target, rel.count as count'\n",
    ")\n",
    "YIELD graphName, nodeCount, relationshipCount, createMillis;\"\"\".format(graphname=graphname,community=community)\n",
    "graph.run(subgraph_query).data()"
   ]
  },
  {
   "cell_type": "markdown",
   "metadata": {},
   "source": [
    "### Cluster this subgraph of clients and STREAM output"
   ]
  },
  {
   "cell_type": "code",
   "execution_count": null,
   "metadata": {},
   "outputs": [],
   "source": [
    "louvain_stream_query=\"\"\"CALL gds.louvain.stream('client_link_graph_{community}', {{ relationshipWeightProperty: 'count', \n",
    "maxLevels:10, \n",
    "maxIterations:200, includeIntermediateCommunities:true}})\n",
    "YIELD nodeId, communityId, intermediateCommunityIds\n",
    "RETURN gds.util.asNode(nodeId).dedupestatic AS dedupestatic, communityId, intermediateCommunityIds\n",
    "ORDER BY communityId DESC;\"\"\".format(community=community)\n",
    "# graph.run(louvain_stream_query).data()\n",
    "df=graph.run(louvain_stream_query).to_data_frame()"
   ]
  },
  {
   "cell_type": "code",
   "execution_count": null,
   "metadata": {},
   "outputs": [],
   "source": [
    "df"
   ]
  },
  {
   "cell_type": "markdown",
   "metadata": {},
   "source": [
    "### Cluster this  subgraph of clients and WRITE output on each client node"
   ]
  },
  {
   "cell_type": "code",
   "execution_count": null,
   "metadata": {},
   "outputs": [],
   "source": [
    "louvain_write_query=\"\"\"CALL gds.louvain.write('client_link_graph_{community}', {{ relationshipWeightProperty: 'count', \n",
    "maxLevels:10, \n",
    "maxIterations:200, writeProperty: 'client_link_community_{community}' }})\n",
    "YIELD communityCount, modularity, modularities\"\"\".format(community=community)\n",
    "graph.run(louvain_write_query).data()"
   ]
  },
  {
   "cell_type": "markdown",
   "metadata": {},
   "source": [
    "### Inspect client membership of merhcant community"
   ]
  },
  {
   "cell_type": "code",
   "execution_count": null,
   "metadata": {},
   "outputs": [],
   "source": [
    "client_membership_query=\"\"\"MATCH (c:Client) \n",
    "WHERE EXISTS(c.client_link_community_{community}) \n",
    "RETURN COUNT(c.client_link_community_{community}) as count, c.client_link_community_{community} as \n",
    "client_link_community\n",
    "ORDER BY count ASC\"\"\".format(community=community)\n",
    "# graph.run(louvain_stream_query).data()\n",
    "df=graph.run(client_membership_query).to_data_frame()"
   ]
  }
 ],
 "metadata": {
  "kernelspec": {
   "display_name": "Python 3",
   "language": "python",
   "name": "python3"
  },
  "language_info": {
   "codemirror_mode": {
    "name": "ipython",
    "version": 3
   },
   "file_extension": ".py",
   "mimetype": "text/x-python",
   "name": "python",
   "nbconvert_exporter": "python",
   "pygments_lexer": "ipython3",
   "version": "3.7.6"
  }
 },
 "nbformat": 4,
 "nbformat_minor": 4
}
